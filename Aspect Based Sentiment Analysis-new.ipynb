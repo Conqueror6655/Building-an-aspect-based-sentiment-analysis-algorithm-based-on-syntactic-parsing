{
 "cells": [
  {
   "cell_type": "markdown",
   "id": "a06710d7",
   "metadata": {},
   "source": [
    "# Building an aspect-based sentiment analysis algorithm based on syntactic parsing\n",
    "\n",
    "                                                                                    - Yash Kasundra\n",
    "                                                                                    - A1838670"
   ]
  },
  {
   "cell_type": "markdown",
   "id": "af8072ef",
   "metadata": {},
   "source": [
    "### Importing Libraries"
   ]
  },
  {
   "cell_type": "code",
   "execution_count": 1,
   "id": "f798ae82",
   "metadata": {},
   "outputs": [
    {
     "name": "stderr",
     "output_type": "stream",
     "text": [
      "[nltk_data] Downloading package stopwords to\n",
      "[nltk_data]     C:\\Users\\anil\\AppData\\Roaming\\nltk_data...\n",
      "[nltk_data]   Package stopwords is already up-to-date!\n",
      "[nltk_data] Downloading package punkt to\n",
      "[nltk_data]     C:\\Users\\anil\\AppData\\Roaming\\nltk_data...\n",
      "[nltk_data]   Package punkt is already up-to-date!\n",
      "[nltk_data] Downloading package wordnet to\n",
      "[nltk_data]     C:\\Users\\anil\\AppData\\Roaming\\nltk_data...\n",
      "[nltk_data]   Package wordnet is already up-to-date!\n",
      "[nltk_data] Downloading package averaged_perceptron_tagger to\n",
      "[nltk_data]     C:\\Users\\anil\\AppData\\Roaming\\nltk_data...\n",
      "[nltk_data]   Package averaged_perceptron_tagger is already up-to-\n",
      "[nltk_data]       date!\n"
     ]
    },
    {
     "data": {
      "text/plain": [
       "True"
      ]
     },
     "execution_count": 1,
     "metadata": {},
     "output_type": "execute_result"
    }
   ],
   "source": [
    "# imports\n",
    "\n",
    "import sys\n",
    "import re\n",
    "import math\n",
    "import requests\n",
    "import xml.etree.ElementTree as ET\n",
    "import pandas as pd\n",
    "import operator\n",
    "from math import sqrt\n",
    "from statistics import mean\n",
    "from scipy.sparse import csr_matrix\n",
    "\n",
    "\n",
    "import spacy\n",
    "nlp = spacy.load(\"en_core_web_sm\")\n",
    "\n",
    "import nltk\n",
    "from nltk import stem  \n",
    "from nltk.tokenize import word_tokenize\n",
    "from nltk.corpus import stopwords\n",
    "from nltk.corpus import wordnet\n",
    "\n",
    "import collections\n",
    "from collections import Counter\n",
    "import itertools\n",
    "from itertools import islice\n",
    "from itertools import chain\n",
    "import pickle\n",
    "\n",
    "import seaborn as sns\n",
    "import matplotlib.pyplot as plt\n",
    "\n",
    "import numpy as np \n",
    "from numpy import mean\n",
    "from numpy import std\n",
    "\n",
    "import sklearn\n",
    "from sklearn import metrics\n",
    "from sklearn.datasets import make_classification\n",
    "from sklearn.model_selection import cross_val_score\n",
    "from sklearn.linear_model import LogisticRegression\n",
    "from sklearn.metrics import accuracy_score\n",
    "from sklearn.metrics import confusion_matrix\n",
    "from sklearn.model_selection import GridSearchCV\n",
    "from sklearn.model_selection import train_test_split\n",
    "from sklearn.model_selection import StratifiedKFold\n",
    "from sklearn.naive_bayes import MultinomialNB\n",
    "from sklearn.svm import SVC\n",
    "from sklearn.feature_extraction.text import TfidfVectorizer\n",
    "\n",
    "import tensorflow as tf\n",
    "from tensorflow.keras.layers import Embedding\n",
    "from tensorflow.keras.models import Sequential\n",
    "from tensorflow.keras.preprocessing import text, sequence\n",
    "from keras.callbacks import EarlyStopping\n",
    "from tensorflow.keras.layers import Dense, Dropout, Activation\n",
    "from tensorflow.keras.wrappers.scikit_learn import KerasClassifier\n",
    "from tensorflow.keras.layers import Conv1D, GlobalMaxPooling1D, MaxPooling1D\n",
    "from keras.models import Sequential\n",
    "from keras import layers\n",
    "\n",
    "import random\n",
    "seed_value = 100\n",
    "random.seed(seed_value)\n",
    "np.random.seed(seed_value)\n",
    "tf.random.set_seed(seed_value)\n",
    "\n",
    "# nltk downloads\n",
    "nltk.download('stopwords')\n",
    "nltk.download('punkt')\n",
    "nltk.download('wordnet')\n",
    "nltk.download('averaged_perceptron_tagger')"
   ]
  },
  {
   "cell_type": "markdown",
   "id": "6657c897",
   "metadata": {},
   "source": [
    "### Loading and creating Dataframe from XML file"
   ]
  },
  {
   "cell_type": "code",
   "execution_count": 2,
   "id": "add0d0f2",
   "metadata": {},
   "outputs": [],
   "source": [
    "def XML_processing(file):\n",
    "\n",
    "    # get root\n",
    "    root = ET.parse(file).getroot()\n",
    "\n",
    "    id = []\n",
    "    term = {}     # Review wise aspect term\n",
    "    polarity = {} # Polarities for a review\n",
    "    text_review = []\n",
    "\n",
    "    for item in root.findall('sentence'):    \n",
    "        id_val = item.get('id')\n",
    "        id.append(id_val)\n",
    "\n",
    "    total_reviews = len(id) \n",
    " \n",
    "  #  <review text>\n",
    "    for i in range(0,total_reviews):\n",
    "        text_review.append(root[i][0].text)\n",
    "\n",
    "  #  <aspect term>\n",
    "    for i in range (0, total_reviews):\n",
    "        aspect_terms = root[i][1]\n",
    "\n",
    "  # get term and polarity\n",
    "        for item in aspect_terms.findall('aspectTerm'):\n",
    "            term_value = item.get('term')\n",
    "            polarity_value = item.get('polarity')\n",
    "        \n",
    "            if i not in term:\n",
    "                term[i] = [term_value]\n",
    "                polarity[i] = [polarity_value]\n",
    "            \n",
    "            else:\n",
    "                term[i].append( term_value)\n",
    "                polarity[i] .append(polarity_value)\n",
    "  \n",
    "    return total_reviews,text_review,term,polarity;\n"
   ]
  },
  {
   "cell_type": "code",
   "execution_count": 3,
   "id": "2506bc89",
   "metadata": {},
   "outputs": [
    {
     "name": "stdout",
     "output_type": "stream",
     "text": [
      "Total no, of reviews:  3041\n",
      "Reviews containing aspect term:  2021\n",
      "Some reviews:  ['But the staff was so horrible to us.', \"To be completely fair, the only redeeming factor was the food, which was above average, but couldn't make up for all the other deficiencies of Teodora.\", \"The food is uniformly exceptional, with a very capable kitchen which will proudly whip up whatever you feel like eating, whether it's on the menu or not.\", 'Where Gabriela personaly greets you and recommends you what to eat.', \"For those that go once and don't enjoy it, all I can say is that they just don't get it.\"]\n"
     ]
    }
   ],
   "source": [
    "total_reviews,text_review,term,polarity = XML_processing('Restaurants.xml')\n",
    "\n",
    "print(\"Total no, of reviews: \",total_reviews)\n",
    "print(\"Reviews containing aspect term: \", len(term))\n",
    "print(\"Some reviews: \",text_review[0:5])\n"
   ]
  },
  {
   "cell_type": "code",
   "execution_count": 4,
   "id": "2332355d",
   "metadata": {},
   "outputs": [],
   "source": [
    "# function to return only unique words in a sentence\n",
    "def unique_list(line):\n",
    "  \n",
    "    ulist = []\n",
    "    [ulist.append(x) for x in line if x not in ulist]\n",
    "    return ulist\n",
    "\n"
   ]
  },
  {
   "cell_type": "code",
   "execution_count": 5,
   "id": "056c7c1c",
   "metadata": {},
   "outputs": [],
   "source": [
    "# function to extract relevant info with dependency parsing and return a dict of text and polarity for a review\n",
    "def get_DictData(term, text_review, polarity): \n",
    "\n",
    "    index_list = []    # store index of review \n",
    "    polarity_and_description = {} # dict to store the final description and its polarity\n",
    "\n",
    "    for key,val in term.items():\n",
    "        index_list.append(key)\n",
    "\n",
    "    for i in index_list: # for each index\n",
    "\n",
    "        review = text_review[i]\n",
    "        aspect_term_list = term[i]\n",
    "        polar_list = polarity[i]\n",
    "        doc = nlp(review)        # spacy\n",
    "    \n",
    "        for k,item in enumerate(aspect_term_list):  \n",
    "            single_term = len(item.split())      # get a single aspect terms in a review\n",
    "\n",
    "            if  single_term > 1:                 # if aspect term contains more than one word, keep the first word\n",
    "                item_ = item.split(' ', 1)[0]\n",
    "                aspect_term_list[k] = item_       # change the orginal term in the list\n",
    "\n",
    "        j = 0\n",
    "        word_type = []\n",
    "        description = ' '\n",
    "        description_dict = {}\n",
    "\n",
    "        for token in doc:                       # for each word in review\n",
    "            if token.text in aspect_term_list:  # if word is an aspect term\n",
    "\n",
    "                aspect_item = token.text\n",
    "                head = token.head\n",
    "\n",
    "                child_head = head.children     # get all child text of head\n",
    "                child_token = token.children   # get all child text of token\n",
    "\n",
    "                for child_ in  token.children:\n",
    "                    description = description + \" \" + str(child_) # add child text of token to description\n",
    "            \n",
    "                for child in child_head:\n",
    "                    child = str(child)\n",
    "\n",
    "                    if j not in  description_dict:\n",
    "                        description_dict[j] = [child] # store child text in a dict as list\n",
    "                    else:\n",
    "                        description_dict[j].append(child)\n",
    "\n",
    "                description_dict[j].append(description)  # store child text of both token and head for an aspect term\n",
    "\n",
    "                j+=1 \n",
    "                description = ' '   \n",
    "\n",
    "        descript_joined = []\n",
    "\n",
    "        for key,val in  description_dict.items(): # combine the words stored in list to form a single text sentence\n",
    "            value = ' '.join(val)\n",
    "            value = ' '.join(unique_list(value.split())) # remove repeated words\n",
    "            descript_joined.append(value) \n",
    "\n",
    "        for key,val in zip(polar_list, descript_joined): \n",
    "            polarity_and_description[val] = key   # store description and polarity in a dict\n",
    "\n",
    "    return polarity_and_description\n"
   ]
  },
  {
   "cell_type": "code",
   "execution_count": 6,
   "id": "f23a68af",
   "metadata": {},
   "outputs": [
    {
     "name": "stdout",
     "output_type": "stream",
     "text": [
      "3339\n"
     ]
    }
   ],
   "source": [
    "all_data = get_DictData(term,text_review,polarity)\n",
    "print(len(all_data))  "
   ]
  },
  {
   "cell_type": "code",
   "execution_count": 7,
   "id": "236a9db0",
   "metadata": {},
   "outputs": [
    {
     "name": "stdout",
     "output_type": "stream",
     "text": [
      "Data shape:  (3339, 2)\n"
     ]
    }
   ],
   "source": [
    "# Making a dataframe from the data\n",
    "df = pd.DataFrame(list(all_data.items()),columns = ['text','sentiment']) \n",
    "print(\"Data shape: \",df.shape) \n"
   ]
  },
  {
   "cell_type": "code",
   "execution_count": 8,
   "id": "3a2a035d",
   "metadata": {},
   "outputs": [],
   "source": [
    "# Now lets make a train test split where testing data is 30% of the total data \n",
    "from sklearn.model_selection import train_test_split\n",
    "\n",
    "df_train, df_test = train_test_split(df, test_size=0.3, random_state=77)"
   ]
  },
  {
   "cell_type": "code",
   "execution_count": 9,
   "id": "83dcc0ec",
   "metadata": {},
   "outputs": [
    {
     "name": "stdout",
     "output_type": "stream",
     "text": [
      "Training data shape:  (2337, 2)\n",
      "Testing data shape:  (1002, 2)\n"
     ]
    }
   ],
   "source": [
    "print(\"Training data shape: \",df_train.shape) \n",
    "print(\"Testing data shape: \", df_test.shape)"
   ]
  },
  {
   "cell_type": "code",
   "execution_count": 10,
   "id": "0c66572b",
   "metadata": {},
   "outputs": [
    {
     "name": "stdout",
     "output_type": "stream",
     "text": [
      "Training data shape:  (2273, 2)\n",
      "Testing data shape:  (979, 2)\n"
     ]
    }
   ],
   "source": [
    "# Only data useful to us is that where sentiment are not conflicted so let's check how much relavant data we have \n",
    "df_train = df_train[df_train.sentiment != \"conflict\"]\n",
    "df_test = df_test[df_test.sentiment != \"conflict\"]\n",
    "\n",
    "print(\"Training data shape: \",df_train.shape) \n",
    "print(\"Testing data shape: \", df_test.shape)"
   ]
  },
  {
   "cell_type": "code",
   "execution_count": 11,
   "id": "0011b7c2",
   "metadata": {},
   "outputs": [
    {
     "data": {
      "text/html": [
       "<div>\n",
       "<style scoped>\n",
       "    .dataframe tbody tr th:only-of-type {\n",
       "        vertical-align: middle;\n",
       "    }\n",
       "\n",
       "    .dataframe tbody tr th {\n",
       "        vertical-align: top;\n",
       "    }\n",
       "\n",
       "    .dataframe thead th {\n",
       "        text-align: right;\n",
       "    }\n",
       "</style>\n",
       "<table border=\"1\" class=\"dataframe\">\n",
       "  <thead>\n",
       "    <tr style=\"text-align: right;\">\n",
       "      <th></th>\n",
       "      <th>text</th>\n",
       "      <th>sentiment</th>\n",
       "    </tr>\n",
       "  </thead>\n",
       "  <tbody>\n",
       "    <tr>\n",
       "      <th>2791</th>\n",
       "      <td>who cuisine at fine</td>\n",
       "      <td>positive</td>\n",
       "    </tr>\n",
       "    <tr>\n",
       "      <th>988</th>\n",
       "      <td>Pizza crust like ! - pizza</td>\n",
       "      <td>positive</td>\n",
       "    </tr>\n",
       "    <tr>\n",
       "      <th>1890</th>\n",
       "      <td>priced well</td>\n",
       "      <td>positive</td>\n",
       "    </tr>\n",
       "    <tr>\n",
       "      <th>573</th>\n",
       "      <td>a good wine</td>\n",
       "      <td>positive</td>\n",
       "    </tr>\n",
       "    <tr>\n",
       "      <th>1267</th>\n",
       "      <td>and prices mediocre . the here</td>\n",
       "      <td>neutral</td>\n",
       "    </tr>\n",
       "    <tr>\n",
       "      <th>2462</th>\n",
       "      <td>service great in</td>\n",
       "      <td>positive</td>\n",
       "    </tr>\n",
       "    <tr>\n",
       "      <th>260</th>\n",
       "      <td>ca n't wait head the building</td>\n",
       "      <td>negative</td>\n",
       "    </tr>\n",
       "    <tr>\n",
       "      <th>1696</th>\n",
       "      <td>Crab Shuizhu -</td>\n",
       "      <td>positive</td>\n",
       "    </tr>\n",
       "    <tr>\n",
       "      <th>1648</th>\n",
       "      <td>affordable !</td>\n",
       "      <td>positive</td>\n",
       "    </tr>\n",
       "    <tr>\n",
       "      <th>1835</th>\n",
       "      <td>, slice oily and burnt . the</td>\n",
       "      <td>positive</td>\n",
       "    </tr>\n",
       "  </tbody>\n",
       "</table>\n",
       "</div>"
      ],
      "text/plain": [
       "                                text sentiment\n",
       "2791             who cuisine at fine  positive\n",
       "988       Pizza crust like ! - pizza  positive\n",
       "1890                     priced well  positive\n",
       "573                      a good wine  positive\n",
       "1267  and prices mediocre . the here   neutral\n",
       "2462                service great in  positive\n",
       "260    ca n't wait head the building  negative\n",
       "1696                  Crab Shuizhu -  positive\n",
       "1648                    affordable !  positive\n",
       "1835    , slice oily and burnt . the  positive"
      ]
     },
     "execution_count": 11,
     "metadata": {},
     "output_type": "execute_result"
    }
   ],
   "source": [
    "# Now lets take a look at first 10 train and test samples\n",
    "df_train[0:10]"
   ]
  },
  {
   "cell_type": "code",
   "execution_count": 12,
   "id": "ed39facd",
   "metadata": {
    "scrolled": true
   },
   "outputs": [
    {
     "data": {
      "text/html": [
       "<div>\n",
       "<style scoped>\n",
       "    .dataframe tbody tr th:only-of-type {\n",
       "        vertical-align: middle;\n",
       "    }\n",
       "\n",
       "    .dataframe tbody tr th {\n",
       "        vertical-align: top;\n",
       "    }\n",
       "\n",
       "    .dataframe thead th {\n",
       "        text-align: right;\n",
       "    }\n",
       "</style>\n",
       "<table border=\"1\" class=\"dataframe\">\n",
       "  <thead>\n",
       "    <tr style=\"text-align: right;\">\n",
       "      <th></th>\n",
       "      <th>text</th>\n",
       "      <th>sentiment</th>\n",
       "    </tr>\n",
       "  </thead>\n",
       "  <tbody>\n",
       "    <tr>\n",
       "      <th>634</th>\n",
       "      <td>people obviously pizzas their</td>\n",
       "      <td>positive</td>\n",
       "    </tr>\n",
       "    <tr>\n",
       "      <th>1325</th>\n",
       "      <td>is , tapas always yummy with . the</td>\n",
       "      <td>positive</td>\n",
       "    </tr>\n",
       "    <tr>\n",
       "      <th>1980</th>\n",
       "      <td>the same classical made</td>\n",
       "      <td>positive</td>\n",
       "    </tr>\n",
       "    <tr>\n",
       "      <th>743</th>\n",
       "      <td>dinner a late , raucus</td>\n",
       "      <td>positive</td>\n",
       "    </tr>\n",
       "    <tr>\n",
       "      <th>929</th>\n",
       "      <td>the lamb and naan</td>\n",
       "      <td>positive</td>\n",
       "    </tr>\n",
       "    <tr>\n",
       "      <th>805</th>\n",
       "      <td>6 for and mushrooms the 12</td>\n",
       "      <td>positive</td>\n",
       "    </tr>\n",
       "    <tr>\n",
       "      <th>2774</th>\n",
       "      <td>place as . The entire and treatment</td>\n",
       "      <td>negative</td>\n",
       "    </tr>\n",
       "    <tr>\n",
       "      <th>2326</th>\n",
       "      <td>An excellent</td>\n",
       "      <td>positive</td>\n",
       "    </tr>\n",
       "    <tr>\n",
       "      <th>2099</th>\n",
       "      <td>dim</td>\n",
       "      <td>positive</td>\n",
       "    </tr>\n",
       "    <tr>\n",
       "      <th>771</th>\n",
       "      <td>that pizza actually a margarite with , like</td>\n",
       "      <td>neutral</td>\n",
       "    </tr>\n",
       "  </tbody>\n",
       "</table>\n",
       "</div>"
      ],
      "text/plain": [
       "                                             text sentiment\n",
       "634                 people obviously pizzas their  positive\n",
       "1325           is , tapas always yummy with . the  positive\n",
       "1980                      the same classical made  positive\n",
       "743                        dinner a late , raucus  positive\n",
       "929                             the lamb and naan  positive\n",
       "805                    6 for and mushrooms the 12  positive\n",
       "2774          place as . The entire and treatment  negative\n",
       "2326                                 An excellent  positive\n",
       "2099                                          dim  positive\n",
       "771   that pizza actually a margarite with , like   neutral"
      ]
     },
     "execution_count": 12,
     "metadata": {},
     "output_type": "execute_result"
    }
   ],
   "source": [
    "# Now lets take a look at first 10 train and test samples\n",
    "df_test[0:10]"
   ]
  },
  {
   "cell_type": "markdown",
   "id": "0fd89589",
   "metadata": {},
   "source": [
    "### Pre-processing the data"
   ]
  },
  {
   "cell_type": "code",
   "execution_count": 13,
   "id": "4a0712bd",
   "metadata": {},
   "outputs": [],
   "source": [
    "# function to remove puntuation\n",
    "def puntuation_removal(text):\n",
    "    text = [word for word in text if word.isalpha()] #  remove all puntuation and numbers\n",
    "    return text \n",
    "\n",
    "# function to remove stop word from text\n",
    "def stopwords_removal(text):\n",
    "    stop_words = list(stopwords.words('english')) # store nltk stopwords\n",
    "    text = [word for word in text if not word in stop_words] \n",
    "    return text \n",
    "\n",
    "# function to perform lemmatization\n",
    "def lemmatization (text):\n",
    "    lemmatizer = stem.WordNetLemmatizer() \n",
    "    text = [lemmatizer.lemmatize(token) for token in text]\n",
    "    return text \n",
    "\n",
    "\n",
    "# function to perform text preprocessing (lemmatization and no stemming)\n",
    "def clean_corpus(text):\n",
    "    \n",
    "    text = text.lower()                # lower case  \n",
    "    token = word_tokenize(text)         # tokenise\n",
    "  \n",
    "    token = stopwords_removal(token)    # remove stopwords\n",
    "    token = puntuation_removal(token)   # remove puntuation \n",
    "    token = lemmatization(token)       # lemmatize\n",
    "\n",
    "    final_token = \" \".join(token)       # join all tokens\n",
    "\n",
    "    return final_token"
   ]
  },
  {
   "cell_type": "code",
   "execution_count": 14,
   "id": "9dd56e2f",
   "metadata": {},
   "outputs": [],
   "source": [
    "# preprocess training data\n",
    "df_train['processed_text'] = df_train.text.apply(lambda x: clean_corpus(x))\n",
    "\n",
    "# preprocess test data\n",
    "df_test['processed_text'] = df_test.text.apply(lambda x: clean_corpus(x))\n"
   ]
  },
  {
   "cell_type": "code",
   "execution_count": 15,
   "id": "01c33686",
   "metadata": {},
   "outputs": [
    {
     "name": "stdout",
     "output_type": "stream",
     "text": [
      "Training data shape:  (1860, 3)\n",
      "Testing data shape:  (854, 3)\n"
     ]
    }
   ],
   "source": [
    "# remove duplicated sentences\n",
    "df_train = df_train.drop_duplicates(subset = 'processed_text' , keep = \"first\")\n",
    "df_test = df_test.drop_duplicates(subset = 'processed_text' , keep = \"first\")\n",
    "\n",
    "print(\"Training data shape: \",df_train.shape) \n",
    "print(\"Testing data shape: \", df_test.shape)"
   ]
  },
  {
   "cell_type": "code",
   "execution_count": 16,
   "id": "aa762fea",
   "metadata": {},
   "outputs": [
    {
     "name": "stdout",
     "output_type": "stream",
     "text": [
      "(1544, 4)\n",
      "(673, 4)\n"
     ]
    }
   ],
   "source": [
    "# remove sentences with only one word, as they do not have any sentiment description term\n",
    "text_length = []\n",
    "text_length_test = []\n",
    "\n",
    "for text in df_train['processed_text']:\n",
    "    text_length.append(len(text.split()))\n",
    "\n",
    "for text in df_test['processed_text']:\n",
    "    text_length_test.append(len(text.split()))\n",
    "\n",
    "df_train['text_length'] = text_length\n",
    "df_test['text_length'] = text_length_test\n",
    "\n",
    "df_train = df_train[df_train.text_length != 1]\n",
    "df_test = df_test[df_test.text_length != 1]\n",
    "\n",
    "print(df_train.shape)\n",
    "print(df_test.shape)\n"
   ]
  },
  {
   "cell_type": "code",
   "execution_count": 17,
   "id": "4793827c",
   "metadata": {},
   "outputs": [],
   "source": [
    "df_train = df_train[['text', 'processed_text', 'text_length', 'sentiment']]\n",
    "df_test = df_test[['text', 'processed_text', 'text_length', 'sentiment']]"
   ]
  },
  {
   "cell_type": "code",
   "execution_count": 18,
   "id": "38add82e",
   "metadata": {
    "scrolled": true
   },
   "outputs": [
    {
     "data": {
      "text/html": [
       "<div>\n",
       "<style scoped>\n",
       "    .dataframe tbody tr th:only-of-type {\n",
       "        vertical-align: middle;\n",
       "    }\n",
       "\n",
       "    .dataframe tbody tr th {\n",
       "        vertical-align: top;\n",
       "    }\n",
       "\n",
       "    .dataframe thead th {\n",
       "        text-align: right;\n",
       "    }\n",
       "</style>\n",
       "<table border=\"1\" class=\"dataframe\">\n",
       "  <thead>\n",
       "    <tr style=\"text-align: right;\">\n",
       "      <th></th>\n",
       "      <th>text</th>\n",
       "      <th>processed_text</th>\n",
       "      <th>text_length</th>\n",
       "      <th>sentiment</th>\n",
       "    </tr>\n",
       "  </thead>\n",
       "  <tbody>\n",
       "    <tr>\n",
       "      <th>2791</th>\n",
       "      <td>who cuisine at fine</td>\n",
       "      <td>cuisine fine</td>\n",
       "      <td>2</td>\n",
       "      <td>positive</td>\n",
       "    </tr>\n",
       "    <tr>\n",
       "      <th>988</th>\n",
       "      <td>Pizza crust like ! - pizza</td>\n",
       "      <td>pizza crust like pizza</td>\n",
       "      <td>4</td>\n",
       "      <td>positive</td>\n",
       "    </tr>\n",
       "    <tr>\n",
       "      <th>1890</th>\n",
       "      <td>priced well</td>\n",
       "      <td>priced well</td>\n",
       "      <td>2</td>\n",
       "      <td>positive</td>\n",
       "    </tr>\n",
       "    <tr>\n",
       "      <th>573</th>\n",
       "      <td>a good wine</td>\n",
       "      <td>good wine</td>\n",
       "      <td>2</td>\n",
       "      <td>positive</td>\n",
       "    </tr>\n",
       "    <tr>\n",
       "      <th>1267</th>\n",
       "      <td>and prices mediocre . the here</td>\n",
       "      <td>price mediocre</td>\n",
       "      <td>2</td>\n",
       "      <td>neutral</td>\n",
       "    </tr>\n",
       "    <tr>\n",
       "      <th>2462</th>\n",
       "      <td>service great in</td>\n",
       "      <td>service great</td>\n",
       "      <td>2</td>\n",
       "      <td>positive</td>\n",
       "    </tr>\n",
       "    <tr>\n",
       "      <th>260</th>\n",
       "      <td>ca n't wait head the building</td>\n",
       "      <td>ca wait head building</td>\n",
       "      <td>4</td>\n",
       "      <td>negative</td>\n",
       "    </tr>\n",
       "    <tr>\n",
       "      <th>1696</th>\n",
       "      <td>Crab Shuizhu -</td>\n",
       "      <td>crab shuizhu</td>\n",
       "      <td>2</td>\n",
       "      <td>positive</td>\n",
       "    </tr>\n",
       "    <tr>\n",
       "      <th>1835</th>\n",
       "      <td>, slice oily and burnt . the</td>\n",
       "      <td>slice oily burnt</td>\n",
       "      <td>3</td>\n",
       "      <td>positive</td>\n",
       "    </tr>\n",
       "    <tr>\n",
       "      <th>2132</th>\n",
       "      <td>pizza great all their</td>\n",
       "      <td>pizza great</td>\n",
       "      <td>2</td>\n",
       "      <td>positive</td>\n",
       "    </tr>\n",
       "  </tbody>\n",
       "</table>\n",
       "</div>"
      ],
      "text/plain": [
       "                                text          processed_text  text_length  \\\n",
       "2791             who cuisine at fine            cuisine fine            2   \n",
       "988       Pizza crust like ! - pizza  pizza crust like pizza            4   \n",
       "1890                     priced well             priced well            2   \n",
       "573                      a good wine               good wine            2   \n",
       "1267  and prices mediocre . the here          price mediocre            2   \n",
       "2462                service great in           service great            2   \n",
       "260    ca n't wait head the building   ca wait head building            4   \n",
       "1696                  Crab Shuizhu -            crab shuizhu            2   \n",
       "1835    , slice oily and burnt . the        slice oily burnt            3   \n",
       "2132           pizza great all their             pizza great            2   \n",
       "\n",
       "     sentiment  \n",
       "2791  positive  \n",
       "988   positive  \n",
       "1890  positive  \n",
       "573   positive  \n",
       "1267   neutral  \n",
       "2462  positive  \n",
       "260   negative  \n",
       "1696  positive  \n",
       "1835  positive  \n",
       "2132  positive  "
      ]
     },
     "execution_count": 18,
     "metadata": {},
     "output_type": "execute_result"
    }
   ],
   "source": [
    "# let's look at few samples from train\n",
    "df_train[0:10]"
   ]
  },
  {
   "cell_type": "code",
   "execution_count": 19,
   "id": "763868c8",
   "metadata": {
    "scrolled": true
   },
   "outputs": [
    {
     "data": {
      "text/html": [
       "<div>\n",
       "<style scoped>\n",
       "    .dataframe tbody tr th:only-of-type {\n",
       "        vertical-align: middle;\n",
       "    }\n",
       "\n",
       "    .dataframe tbody tr th {\n",
       "        vertical-align: top;\n",
       "    }\n",
       "\n",
       "    .dataframe thead th {\n",
       "        text-align: right;\n",
       "    }\n",
       "</style>\n",
       "<table border=\"1\" class=\"dataframe\">\n",
       "  <thead>\n",
       "    <tr style=\"text-align: right;\">\n",
       "      <th></th>\n",
       "      <th>text</th>\n",
       "      <th>processed_text</th>\n",
       "      <th>text_length</th>\n",
       "      <th>sentiment</th>\n",
       "    </tr>\n",
       "  </thead>\n",
       "  <tbody>\n",
       "    <tr>\n",
       "      <th>634</th>\n",
       "      <td>people obviously pizzas their</td>\n",
       "      <td>people obviously pizza</td>\n",
       "      <td>3</td>\n",
       "      <td>positive</td>\n",
       "    </tr>\n",
       "    <tr>\n",
       "      <th>1325</th>\n",
       "      <td>is , tapas always yummy with . the</td>\n",
       "      <td>tapa always yummy</td>\n",
       "      <td>3</td>\n",
       "      <td>positive</td>\n",
       "    </tr>\n",
       "    <tr>\n",
       "      <th>1980</th>\n",
       "      <td>the same classical made</td>\n",
       "      <td>classical made</td>\n",
       "      <td>2</td>\n",
       "      <td>positive</td>\n",
       "    </tr>\n",
       "    <tr>\n",
       "      <th>743</th>\n",
       "      <td>dinner a late , raucus</td>\n",
       "      <td>dinner late raucus</td>\n",
       "      <td>3</td>\n",
       "      <td>positive</td>\n",
       "    </tr>\n",
       "    <tr>\n",
       "      <th>929</th>\n",
       "      <td>the lamb and naan</td>\n",
       "      <td>lamb naan</td>\n",
       "      <td>2</td>\n",
       "      <td>positive</td>\n",
       "    </tr>\n",
       "    <tr>\n",
       "      <th>2774</th>\n",
       "      <td>place as . The entire and treatment</td>\n",
       "      <td>place entire treatment</td>\n",
       "      <td>3</td>\n",
       "      <td>negative</td>\n",
       "    </tr>\n",
       "    <tr>\n",
       "      <th>771</th>\n",
       "      <td>that pizza actually a margarite with , like</td>\n",
       "      <td>pizza actually margarite like</td>\n",
       "      <td>4</td>\n",
       "      <td>neutral</td>\n",
       "    </tr>\n",
       "    <tr>\n",
       "      <th>2358</th>\n",
       "      <td>servings , i salmon had Small for entree</td>\n",
       "      <td>serving salmon small entree</td>\n",
       "      <td>4</td>\n",
       "      <td>negative</td>\n",
       "    </tr>\n",
       "    <tr>\n",
       "      <th>1739</th>\n",
       "      <td>ambience authentic and received The</td>\n",
       "      <td>ambience authentic received</td>\n",
       "      <td>3</td>\n",
       "      <td>positive</td>\n",
       "    </tr>\n",
       "    <tr>\n",
       "      <th>277</th>\n",
       "      <td>dish favorite and get This</td>\n",
       "      <td>dish favorite get</td>\n",
       "      <td>3</td>\n",
       "      <td>positive</td>\n",
       "    </tr>\n",
       "  </tbody>\n",
       "</table>\n",
       "</div>"
      ],
      "text/plain": [
       "                                             text  \\\n",
       "634                 people obviously pizzas their   \n",
       "1325           is , tapas always yummy with . the   \n",
       "1980                      the same classical made   \n",
       "743                        dinner a late , raucus   \n",
       "929                             the lamb and naan   \n",
       "2774          place as . The entire and treatment   \n",
       "771   that pizza actually a margarite with , like   \n",
       "2358     servings , i salmon had Small for entree   \n",
       "1739          ambience authentic and received The   \n",
       "277                    dish favorite and get This   \n",
       "\n",
       "                     processed_text  text_length sentiment  \n",
       "634          people obviously pizza            3  positive  \n",
       "1325              tapa always yummy            3  positive  \n",
       "1980                 classical made            2  positive  \n",
       "743              dinner late raucus            3  positive  \n",
       "929                       lamb naan            2  positive  \n",
       "2774         place entire treatment            3  negative  \n",
       "771   pizza actually margarite like            4   neutral  \n",
       "2358    serving salmon small entree            4  negative  \n",
       "1739    ambience authentic received            3  positive  \n",
       "277               dish favorite get            3  positive  "
      ]
     },
     "execution_count": 19,
     "metadata": {},
     "output_type": "execute_result"
    }
   ],
   "source": [
    "df_test[0:10]"
   ]
  },
  {
   "cell_type": "code",
   "execution_count": 20,
   "id": "55f21ce2",
   "metadata": {},
   "outputs": [],
   "source": [
    "# function to get word count of a dataset\n",
    "def word_count(dataset):\n",
    "    \n",
    "    unique_words = [] \n",
    "    \n",
    "    for row in dataset:\n",
    "        for word in row.split(\" \"):\n",
    "            if len(word) > 2 and word not in unique_words:\n",
    "                unique_words.append(word) # Add each unique word of length > 2 to the list\n",
    "            \n",
    "    unique_words.sort()\n",
    "    vocab = {j:i for i,j in enumerate(unique_words)} # Enumerate the list, i.e., give consecutive numbers to each item, store in a dict\n",
    "    return vocab\n"
   ]
  },
  {
   "cell_type": "code",
   "execution_count": 21,
   "id": "84fe4277",
   "metadata": {},
   "outputs": [
    {
     "name": "stdout",
     "output_type": "stream",
     "text": [
      "Number of unique words in processed training text:  1282\n",
      "Number of unique words in original training text:  1618\n"
     ]
    }
   ],
   "source": [
    " #let's comapre total number of unique words in training set before and after processing\n",
    "unique_words_ques2 = word_count(df_train['processed_text'])\n",
    "print(\"Number of unique words in processed training text: \",len(unique_words_ques2))  \n",
    "\n",
    "unique_words_ = word_count(df_train['text'])\n",
    "print(\"Number of unique words in original training text: \",len(unique_words_))   "
   ]
  },
  {
   "cell_type": "code",
   "execution_count": 22,
   "id": "656defc0",
   "metadata": {},
   "outputs": [
    {
     "data": {
      "image/png": "[encoded data removed]",
      "text/plain": [
       "<Figure size 432x288 with 1 Axes>"
      ]
     },
     "metadata": {
      "needs_background": "light"
     },
     "output_type": "display_data"
    }
   ],
   "source": [
    "\n",
    "# plot distribution of label in training data\n",
    "df_train['sentiment'].hist(edgecolor = 'black',bins=5,facecolor = 'turquoise')\n",
    "plt.suptitle(\"Histogram for Labels\",size = 14)\n",
    "plt.xlabel(\"Label\")\n",
    "plt.ylabel(\"Number of reviews\")\n",
    "plt.show()"
   ]
  },
  {
   "cell_type": "code",
   "execution_count": 23,
   "id": "8189bb72",
   "metadata": {},
   "outputs": [
    {
     "data": {
      "image/png": "[encoded data removed]",
      "text/plain": [
       "<Figure size 432x288 with 1 Axes>"
      ]
     },
     "metadata": {
      "needs_background": "light"
     },
     "output_type": "display_data"
    }
   ],
   "source": [
    "# plot distribution of label in test data\n",
    "df_test['sentiment'].hist(edgecolor = 'black',bins=5,facecolor = 'turquoise')\n",
    "plt.suptitle(\"Histogram for Labels\",size = 14)\n",
    "plt.xlabel(\"Label\")\n",
    "plt.ylabel(\"Number of reviews\")\n",
    "plt.show()"
   ]
  },
  {
   "cell_type": "markdown",
   "id": "28956c59",
   "metadata": {},
   "source": [
    "### Now after pre-processing our data, it is clean. So let's start with applying classification models like Logistic Regression, Multinomial Navie Bayes and SVC. For that we will first use TF-IDF to convert our data into vectors and then pass it into those model with a grid search."
   ]
  },
  {
   "cell_type": "code",
   "execution_count": 24,
   "id": "0c91b399",
   "metadata": {},
   "outputs": [],
   "source": [
    "y_test = df_test['sentiment']"
   ]
  },
  {
   "cell_type": "markdown",
   "id": "84e758e3",
   "metadata": {},
   "source": [
    "   - TF-IDF"
   ]
  },
  {
   "cell_type": "code",
   "execution_count": 25,
   "id": "e6fb7b23",
   "metadata": {},
   "outputs": [
    {
     "name": "stdout",
     "output_type": "stream",
     "text": [
      "['absolutely' 'accomodating' 'accompaniment' ... 'yummy' 'ziti' 'zucchini']\n",
      "Training feature shape (1544, 1295)\n",
      "Testing feature shape (673, 1295)\n"
     ]
    }
   ],
   "source": [
    "# TF-IDF transformation\n",
    "vectorizer = TfidfVectorizer()\n",
    "vectorizer.fit(df_train['processed_text'])\n",
    "\n",
    "tfidf_X_train = vectorizer.transform(df_train['processed_text'])\n",
    "tfidf_X_test = vectorizer.transform(df_test['processed_text'])\n",
    "\n",
    "print(vectorizer.get_feature_names_out())\n",
    "\n",
    "print(\"Training feature shape\", tfidf_X_train.shape)\n",
    "print(\"Testing feature shape\", tfidf_X_test .shape)"
   ]
  },
  {
   "cell_type": "code",
   "execution_count": 26,
   "id": "78aa7667",
   "metadata": {
    "scrolled": true
   },
   "outputs": [
    {
     "name": "stdout",
     "output_type": "stream",
     "text": [
      "(1235, 1295)\n",
      "(1235,)\n",
      "(309, 1295)\n"
     ]
    }
   ],
   "source": [
    "# split training data into training and validation set where validation is 20% of training data\n",
    "x_train, x_valid, y_train, y_valid = train_test_split(tfidf_X_train , df_train['sentiment'], test_size=0.2, random_state=42,shuffle = True)\n",
    "\n",
    "print(x_train.shape)\n",
    "print(y_train.shape)\n",
    "print(x_valid.shape)"
   ]
  },
  {
   "cell_type": "markdown",
   "id": "2b81ccf6",
   "metadata": {},
   "source": [
    "   - Grid Search"
   ]
  },
  {
   "cell_type": "code",
   "execution_count": 27,
   "id": "68a4bf59",
   "metadata": {},
   "outputs": [],
   "source": [
    "# function to perform grid search for some_parameters \n",
    "def do_GridSearch(model, some_parameters):\n",
    "\n",
    "    cv = StratifiedKFold(n_splits=5, random_state=42, shuffle = True)\n",
    "    search = GridSearchCV(model, some_parameters, scoring='accuracy', n_jobs=-1, cv=cv)\n",
    "\n",
    "    result = search.fit(x_train, y_train)\n",
    "\n",
    "  # print summary\n",
    "    print('Best Score: %s' % result.best_score_)\n",
    "    print('Best Hyperparameters: %s' % result.best_params_)\n",
    "    print()\n",
    "\n",
    "    means = result.cv_results_['mean_test_score']\n",
    "    stds = result.cv_results_['std_test_score']\n",
    "\n",
    "    for mean, std, params in zip(means, stds, result.cv_results_['params']):\n",
    "        print(\"%0.3f (+/-%0.03f) for %r\"% (mean, std * 2, params))\n",
    "\n",
    "    return result.best_score_ "
   ]
  },
  {
   "cell_type": "markdown",
   "id": "7342e268",
   "metadata": {},
   "source": [
    "   - Logistic Regression"
   ]
  },
  {
   "cell_type": "code",
   "execution_count": 28,
   "id": "c1444322",
   "metadata": {
    "scrolled": true
   },
   "outputs": [
    {
     "name": "stdout",
     "output_type": "stream",
     "text": [
      "Best Score: 0.6680161943319838\n",
      "Best Hyperparameters: {'C': 1.5, 'solver': 'sag', 'tol': 0.1}\n",
      "\n",
      "0.629 (+/-0.004) for {'C': 0.01, 'solver': 'lbfgs', 'tol': 0.0001}\n",
      "0.629 (+/-0.004) for {'C': 0.01, 'solver': 'lbfgs', 'tol': 0.001}\n",
      "0.629 (+/-0.004) for {'C': 0.01, 'solver': 'lbfgs', 'tol': 0.01}\n",
      "0.629 (+/-0.004) for {'C': 0.01, 'solver': 'lbfgs', 'tol': 0.1}\n",
      "0.629 (+/-0.004) for {'C': 0.01, 'solver': 'newton-cg', 'tol': 0.0001}\n",
      "0.629 (+/-0.004) for {'C': 0.01, 'solver': 'newton-cg', 'tol': 0.001}\n",
      "0.629 (+/-0.004) for {'C': 0.01, 'solver': 'newton-cg', 'tol': 0.01}\n",
      "0.629 (+/-0.004) for {'C': 0.01, 'solver': 'newton-cg', 'tol': 0.1}\n",
      "0.629 (+/-0.004) for {'C': 0.01, 'solver': 'sag', 'tol': 0.0001}\n",
      "0.629 (+/-0.004) for {'C': 0.01, 'solver': 'sag', 'tol': 0.001}\n",
      "0.629 (+/-0.004) for {'C': 0.01, 'solver': 'sag', 'tol': 0.01}\n",
      "0.629 (+/-0.004) for {'C': 0.01, 'solver': 'sag', 'tol': 0.1}\n",
      "0.629 (+/-0.004) for {'C': 0.01, 'solver': 'saga', 'tol': 0.0001}\n",
      "0.629 (+/-0.004) for {'C': 0.01, 'solver': 'saga', 'tol': 0.001}\n",
      "0.629 (+/-0.004) for {'C': 0.01, 'solver': 'saga', 'tol': 0.01}\n",
      "0.629 (+/-0.004) for {'C': 0.01, 'solver': 'saga', 'tol': 0.1}\n",
      "0.629 (+/-0.004) for {'C': 0.1, 'solver': 'lbfgs', 'tol': 0.0001}\n",
      "0.629 (+/-0.004) for {'C': 0.1, 'solver': 'lbfgs', 'tol': 0.001}\n",
      "0.629 (+/-0.004) for {'C': 0.1, 'solver': 'lbfgs', 'tol': 0.01}\n",
      "0.629 (+/-0.004) for {'C': 0.1, 'solver': 'lbfgs', 'tol': 0.1}\n",
      "0.629 (+/-0.004) for {'C': 0.1, 'solver': 'newton-cg', 'tol': 0.0001}\n",
      "0.629 (+/-0.004) for {'C': 0.1, 'solver': 'newton-cg', 'tol': 0.001}\n",
      "0.629 (+/-0.004) for {'C': 0.1, 'solver': 'newton-cg', 'tol': 0.01}\n",
      "0.629 (+/-0.004) for {'C': 0.1, 'solver': 'newton-cg', 'tol': 0.1}\n",
      "0.629 (+/-0.004) for {'C': 0.1, 'solver': 'sag', 'tol': 0.0001}\n",
      "0.629 (+/-0.004) for {'C': 0.1, 'solver': 'sag', 'tol': 0.001}\n",
      "0.629 (+/-0.004) for {'C': 0.1, 'solver': 'sag', 'tol': 0.01}\n",
      "0.629 (+/-0.004) for {'C': 0.1, 'solver': 'sag', 'tol': 0.1}\n",
      "0.629 (+/-0.004) for {'C': 0.1, 'solver': 'saga', 'tol': 0.0001}\n",
      "0.629 (+/-0.004) for {'C': 0.1, 'solver': 'saga', 'tol': 0.001}\n",
      "0.629 (+/-0.004) for {'C': 0.1, 'solver': 'saga', 'tol': 0.01}\n",
      "0.629 (+/-0.004) for {'C': 0.1, 'solver': 'saga', 'tol': 0.1}\n",
      "0.636 (+/-0.006) for {'C': 0.5, 'solver': 'lbfgs', 'tol': 0.0001}\n",
      "0.636 (+/-0.006) for {'C': 0.5, 'solver': 'lbfgs', 'tol': 0.001}\n",
      "0.636 (+/-0.006) for {'C': 0.5, 'solver': 'lbfgs', 'tol': 0.01}\n",
      "0.636 (+/-0.006) for {'C': 0.5, 'solver': 'lbfgs', 'tol': 0.1}\n",
      "0.636 (+/-0.006) for {'C': 0.5, 'solver': 'newton-cg', 'tol': 0.0001}\n",
      "0.636 (+/-0.006) for {'C': 0.5, 'solver': 'newton-cg', 'tol': 0.001}\n",
      "0.636 (+/-0.006) for {'C': 0.5, 'solver': 'newton-cg', 'tol': 0.01}\n",
      "0.636 (+/-0.006) for {'C': 0.5, 'solver': 'newton-cg', 'tol': 0.1}\n",
      "0.636 (+/-0.006) for {'C': 0.5, 'solver': 'sag', 'tol': 0.0001}\n",
      "0.636 (+/-0.006) for {'C': 0.5, 'solver': 'sag', 'tol': 0.001}\n",
      "0.636 (+/-0.006) for {'C': 0.5, 'solver': 'sag', 'tol': 0.01}\n",
      "0.636 (+/-0.006) for {'C': 0.5, 'solver': 'sag', 'tol': 0.1}\n",
      "0.636 (+/-0.006) for {'C': 0.5, 'solver': 'saga', 'tol': 0.0001}\n",
      "0.636 (+/-0.006) for {'C': 0.5, 'solver': 'saga', 'tol': 0.001}\n",
      "0.636 (+/-0.006) for {'C': 0.5, 'solver': 'saga', 'tol': 0.01}\n",
      "0.639 (+/-0.006) for {'C': 0.5, 'solver': 'saga', 'tol': 0.1}\n",
      "0.653 (+/-0.022) for {'C': 1.0, 'solver': 'lbfgs', 'tol': 0.0001}\n",
      "0.653 (+/-0.022) for {'C': 1.0, 'solver': 'lbfgs', 'tol': 0.001}\n",
      "0.653 (+/-0.022) for {'C': 1.0, 'solver': 'lbfgs', 'tol': 0.01}\n",
      "0.653 (+/-0.022) for {'C': 1.0, 'solver': 'lbfgs', 'tol': 0.1}\n",
      "0.653 (+/-0.022) for {'C': 1.0, 'solver': 'newton-cg', 'tol': 0.0001}\n",
      "0.653 (+/-0.022) for {'C': 1.0, 'solver': 'newton-cg', 'tol': 0.001}\n",
      "0.653 (+/-0.022) for {'C': 1.0, 'solver': 'newton-cg', 'tol': 0.01}\n",
      "0.653 (+/-0.022) for {'C': 1.0, 'solver': 'newton-cg', 'tol': 0.1}\n",
      "0.653 (+/-0.022) for {'C': 1.0, 'solver': 'sag', 'tol': 0.0001}\n",
      "0.653 (+/-0.022) for {'C': 1.0, 'solver': 'sag', 'tol': 0.001}\n",
      "0.653 (+/-0.022) for {'C': 1.0, 'solver': 'sag', 'tol': 0.01}\n",
      "0.653 (+/-0.022) for {'C': 1.0, 'solver': 'sag', 'tol': 0.1}\n",
      "0.653 (+/-0.022) for {'C': 1.0, 'solver': 'saga', 'tol': 0.0001}\n",
      "0.654 (+/-0.020) for {'C': 1.0, 'solver': 'saga', 'tol': 0.001}\n",
      "0.653 (+/-0.022) for {'C': 1.0, 'solver': 'saga', 'tol': 0.01}\n",
      "0.655 (+/-0.017) for {'C': 1.0, 'solver': 'saga', 'tol': 0.1}\n",
      "0.666 (+/-0.014) for {'C': 1.5, 'solver': 'lbfgs', 'tol': 0.0001}\n",
      "0.666 (+/-0.014) for {'C': 1.5, 'solver': 'lbfgs', 'tol': 0.001}\n",
      "0.666 (+/-0.014) for {'C': 1.5, 'solver': 'lbfgs', 'tol': 0.01}\n",
      "0.666 (+/-0.014) for {'C': 1.5, 'solver': 'lbfgs', 'tol': 0.1}\n",
      "0.666 (+/-0.014) for {'C': 1.5, 'solver': 'newton-cg', 'tol': 0.0001}\n",
      "0.666 (+/-0.014) for {'C': 1.5, 'solver': 'newton-cg', 'tol': 0.001}\n",
      "0.666 (+/-0.014) for {'C': 1.5, 'solver': 'newton-cg', 'tol': 0.01}\n",
      "0.666 (+/-0.014) for {'C': 1.5, 'solver': 'newton-cg', 'tol': 0.1}\n",
      "0.666 (+/-0.014) for {'C': 1.5, 'solver': 'sag', 'tol': 0.0001}\n",
      "0.666 (+/-0.014) for {'C': 1.5, 'solver': 'sag', 'tol': 0.001}\n",
      "0.666 (+/-0.014) for {'C': 1.5, 'solver': 'sag', 'tol': 0.01}\n",
      "0.668 (+/-0.014) for {'C': 1.5, 'solver': 'sag', 'tol': 0.1}\n",
      "0.666 (+/-0.015) for {'C': 1.5, 'solver': 'saga', 'tol': 0.0001}\n",
      "0.666 (+/-0.014) for {'C': 1.5, 'solver': 'saga', 'tol': 0.001}\n",
      "0.665 (+/-0.016) for {'C': 1.5, 'solver': 'saga', 'tol': 0.01}\n",
      "0.668 (+/-0.017) for {'C': 1.5, 'solver': 'saga', 'tol': 0.1}\n"
     ]
    }
   ],
   "source": [
    "logisticreg =  LogisticRegression(multi_class='multinomial')\n",
    "\n",
    "parameters = {'solver':  ['lbfgs','newton-cg' , 'sag','saga'] ,  'C': [0.01,0.1,0.5,1.0,1.5], 'tol':[0.0001,0.001, 0.01,0.1]}\n",
    "best_score_log_reg = do_GridSearch(logisticreg, parameters)"
   ]
  },
  {
   "cell_type": "markdown",
   "id": "97d7dcdd",
   "metadata": {},
   "source": [
    "   - Multinomial Naive Bayes"
   ]
  },
  {
   "cell_type": "code",
   "execution_count": 29,
   "id": "2205ce22",
   "metadata": {},
   "outputs": [
    {
     "name": "stdout",
     "output_type": "stream",
     "text": [
      "Best Score: 0.6510121457489879\n",
      "Best Hyperparameters: {'alpha': 0.5}\n",
      "\n",
      "0.609 (+/-0.033) for {'alpha': 0.001}\n",
      "0.619 (+/-0.038) for {'alpha': 0.01}\n",
      "0.640 (+/-0.035) for {'alpha': 0.1}\n",
      "0.651 (+/-0.016) for {'alpha': 0.5}\n",
      "0.636 (+/-0.013) for {'alpha': 1.0}\n",
      "0.633 (+/-0.014) for {'alpha': 1.2}\n"
     ]
    }
   ],
   "source": [
    "naivebayes  = MultinomialNB()\n",
    "parameters = {'alpha': [0.001, 0.01,0.1,0.5,1.0,1.2]}\n",
    "best_score_navie_bayes = do_GridSearch(naivebayes, parameters)"
   ]
  },
  {
   "cell_type": "markdown",
   "id": "2b906bae",
   "metadata": {},
   "source": [
    "   - Support Vector Classifier"
   ]
  },
  {
   "cell_type": "code",
   "execution_count": 30,
   "id": "c29e49bf",
   "metadata": {},
   "outputs": [
    {
     "name": "stdout",
     "output_type": "stream",
     "text": [
      "Best Score: 0.668825910931174\n",
      "Best Hyperparameters: {'C': 10, 'gamma': 0.1, 'kernel': 'sigmoid'}\n",
      "\n",
      "0.629 (+/-0.004) for {'C': 0.1, 'gamma': 0.0001, 'kernel': 'rbf'}\n",
      "0.629 (+/-0.004) for {'C': 0.1, 'gamma': 0.0001, 'kernel': 'poly'}\n",
      "0.629 (+/-0.004) for {'C': 0.1, 'gamma': 0.0001, 'kernel': 'sigmoid'}\n",
      "0.629 (+/-0.004) for {'C': 0.1, 'gamma': 0.001, 'kernel': 'rbf'}\n",
      "0.629 (+/-0.004) for {'C': 0.1, 'gamma': 0.001, 'kernel': 'poly'}\n",
      "0.629 (+/-0.004) for {'C': 0.1, 'gamma': 0.001, 'kernel': 'sigmoid'}\n",
      "0.629 (+/-0.004) for {'C': 0.1, 'gamma': 0.01, 'kernel': 'rbf'}\n",
      "0.629 (+/-0.004) for {'C': 0.1, 'gamma': 0.01, 'kernel': 'poly'}\n",
      "0.629 (+/-0.004) for {'C': 0.1, 'gamma': 0.01, 'kernel': 'sigmoid'}\n",
      "0.629 (+/-0.004) for {'C': 0.1, 'gamma': 0.1, 'kernel': 'rbf'}\n",
      "0.629 (+/-0.004) for {'C': 0.1, 'gamma': 0.1, 'kernel': 'poly'}\n",
      "0.629 (+/-0.004) for {'C': 0.1, 'gamma': 0.1, 'kernel': 'sigmoid'}\n",
      "0.629 (+/-0.004) for {'C': 0.5, 'gamma': 0.0001, 'kernel': 'rbf'}\n",
      "0.629 (+/-0.004) for {'C': 0.5, 'gamma': 0.0001, 'kernel': 'poly'}\n",
      "0.629 (+/-0.004) for {'C': 0.5, 'gamma': 0.0001, 'kernel': 'sigmoid'}\n",
      "0.629 (+/-0.004) for {'C': 0.5, 'gamma': 0.001, 'kernel': 'rbf'}\n",
      "0.629 (+/-0.004) for {'C': 0.5, 'gamma': 0.001, 'kernel': 'poly'}\n",
      "0.629 (+/-0.004) for {'C': 0.5, 'gamma': 0.001, 'kernel': 'sigmoid'}\n",
      "0.629 (+/-0.004) for {'C': 0.5, 'gamma': 0.01, 'kernel': 'rbf'}\n",
      "0.629 (+/-0.004) for {'C': 0.5, 'gamma': 0.01, 'kernel': 'poly'}\n",
      "0.629 (+/-0.004) for {'C': 0.5, 'gamma': 0.01, 'kernel': 'sigmoid'}\n",
      "0.629 (+/-0.004) for {'C': 0.5, 'gamma': 0.1, 'kernel': 'rbf'}\n",
      "0.629 (+/-0.004) for {'C': 0.5, 'gamma': 0.1, 'kernel': 'poly'}\n",
      "0.629 (+/-0.004) for {'C': 0.5, 'gamma': 0.1, 'kernel': 'sigmoid'}\n",
      "0.629 (+/-0.004) for {'C': 1.0, 'gamma': 0.0001, 'kernel': 'rbf'}\n",
      "0.629 (+/-0.004) for {'C': 1.0, 'gamma': 0.0001, 'kernel': 'poly'}\n",
      "0.629 (+/-0.004) for {'C': 1.0, 'gamma': 0.0001, 'kernel': 'sigmoid'}\n",
      "0.629 (+/-0.004) for {'C': 1.0, 'gamma': 0.001, 'kernel': 'rbf'}\n",
      "0.629 (+/-0.004) for {'C': 1.0, 'gamma': 0.001, 'kernel': 'poly'}\n",
      "0.629 (+/-0.004) for {'C': 1.0, 'gamma': 0.001, 'kernel': 'sigmoid'}\n",
      "0.629 (+/-0.004) for {'C': 1.0, 'gamma': 0.01, 'kernel': 'rbf'}\n",
      "0.629 (+/-0.004) for {'C': 1.0, 'gamma': 0.01, 'kernel': 'poly'}\n",
      "0.629 (+/-0.004) for {'C': 1.0, 'gamma': 0.01, 'kernel': 'sigmoid'}\n",
      "0.629 (+/-0.004) for {'C': 1.0, 'gamma': 0.1, 'kernel': 'rbf'}\n",
      "0.629 (+/-0.004) for {'C': 1.0, 'gamma': 0.1, 'kernel': 'poly'}\n",
      "0.629 (+/-0.004) for {'C': 1.0, 'gamma': 0.1, 'kernel': 'sigmoid'}\n",
      "0.629 (+/-0.004) for {'C': 5, 'gamma': 0.0001, 'kernel': 'rbf'}\n",
      "0.629 (+/-0.004) for {'C': 5, 'gamma': 0.0001, 'kernel': 'poly'}\n",
      "0.629 (+/-0.004) for {'C': 5, 'gamma': 0.0001, 'kernel': 'sigmoid'}\n",
      "0.629 (+/-0.004) for {'C': 5, 'gamma': 0.001, 'kernel': 'rbf'}\n",
      "0.629 (+/-0.004) for {'C': 5, 'gamma': 0.001, 'kernel': 'poly'}\n",
      "0.629 (+/-0.004) for {'C': 5, 'gamma': 0.001, 'kernel': 'sigmoid'}\n",
      "0.629 (+/-0.004) for {'C': 5, 'gamma': 0.01, 'kernel': 'rbf'}\n",
      "0.629 (+/-0.004) for {'C': 5, 'gamma': 0.01, 'kernel': 'poly'}\n",
      "0.629 (+/-0.004) for {'C': 5, 'gamma': 0.01, 'kernel': 'sigmoid'}\n",
      "0.667 (+/-0.016) for {'C': 5, 'gamma': 0.1, 'kernel': 'rbf'}\n",
      "0.629 (+/-0.004) for {'C': 5, 'gamma': 0.1, 'kernel': 'poly'}\n",
      "0.637 (+/-0.008) for {'C': 5, 'gamma': 0.1, 'kernel': 'sigmoid'}\n",
      "0.629 (+/-0.004) for {'C': 10, 'gamma': 0.0001, 'kernel': 'rbf'}\n",
      "0.629 (+/-0.004) for {'C': 10, 'gamma': 0.0001, 'kernel': 'poly'}\n",
      "0.629 (+/-0.004) for {'C': 10, 'gamma': 0.0001, 'kernel': 'sigmoid'}\n",
      "0.629 (+/-0.004) for {'C': 10, 'gamma': 0.001, 'kernel': 'rbf'}\n",
      "0.629 (+/-0.004) for {'C': 10, 'gamma': 0.001, 'kernel': 'poly'}\n",
      "0.629 (+/-0.004) for {'C': 10, 'gamma': 0.001, 'kernel': 'sigmoid'}\n",
      "0.629 (+/-0.004) for {'C': 10, 'gamma': 0.01, 'kernel': 'rbf'}\n",
      "0.629 (+/-0.004) for {'C': 10, 'gamma': 0.01, 'kernel': 'poly'}\n",
      "0.629 (+/-0.004) for {'C': 10, 'gamma': 0.01, 'kernel': 'sigmoid'}\n",
      "0.664 (+/-0.025) for {'C': 10, 'gamma': 0.1, 'kernel': 'rbf'}\n",
      "0.629 (+/-0.004) for {'C': 10, 'gamma': 0.1, 'kernel': 'poly'}\n",
      "0.669 (+/-0.017) for {'C': 10, 'gamma': 0.1, 'kernel': 'sigmoid'}\n"
     ]
    }
   ],
   "source": [
    "svc = SVC()\n",
    "parameters = {'kernel':  ['rbf', 'poly','sigmoid'] , 'C': [0.1,0.5,1.0,5,10], 'gamma': [0.0001,0.001,0.01,0.1]}\n",
    "best_score_SVC = do_GridSearch(svc, parameters)"
   ]
  },
  {
   "cell_type": "markdown",
   "id": "c3024ad2",
   "metadata": {},
   "source": [
    "#### Let's compare the best scores for all 3 models"
   ]
  },
  {
   "cell_type": "code",
   "execution_count": 31,
   "id": "1634af01",
   "metadata": {},
   "outputs": [],
   "source": [
    "from tabulate import tabulate\n",
    "\n",
    "table = [['Classification Models', 'Best Scores from Grid search'], \n",
    "         ['Logistic Regression', best_score_log_reg], \n",
    "         ['Multinomial Naive Bayes', best_score_navie_bayes],\n",
    "         ['Support Vector Classifier', best_score_SVC]]"
   ]
  },
  {
   "cell_type": "code",
   "execution_count": 32,
   "id": "45d878bb",
   "metadata": {
    "scrolled": false
   },
   "outputs": [
    {
     "name": "stdout",
     "output_type": "stream",
     "text": [
      "-------------------------  ----------------------------\n",
      "Classification Models      Best Scores from Grid search\n",
      "Logistic Regression        0.6680161943319838\n",
      "Multinomial Naive Bayes    0.6510121457489879\n",
      "Support Vector Classifier  0.668825910931174\n",
      "-------------------------  ----------------------------\n"
     ]
    }
   ],
   "source": [
    "print(tabulate(table))"
   ]
  },
  {
   "cell_type": "markdown",
   "id": "87073e34",
   "metadata": {},
   "source": [
    "### Ler's Use logistic regression model to evaluate the model performance on test set"
   ]
  },
  {
   "cell_type": "code",
   "execution_count": 33,
   "id": "0d2d69df",
   "metadata": {},
   "outputs": [
    {
     "data": {
      "text/plain": [
       "0.6775631500742942"
      ]
     },
     "execution_count": 33,
     "metadata": {},
     "output_type": "execute_result"
    }
   ],
   "source": [
    "model = LogisticRegression(multi_class='multinomial',C = 1.5, solver= 'lbfgs', tol =  0.0001, random_state=77) \n",
    "model.fit(x_train, y_train)\n",
    "y_pred = model.predict(tfidf_X_test) #tfidf_X_test\n",
    "\n",
    "accuracy_score(y_pred, y_test) "
   ]
  },
  {
   "cell_type": "code",
   "execution_count": 34,
   "id": "74ea368e",
   "metadata": {
    "scrolled": true
   },
   "outputs": [
    {
     "data": {
      "image/png": "[encoded data removed]",
      "text/plain": [
       "<Figure size 432x288 with 2 Axes>"
      ]
     },
     "metadata": {
      "needs_background": "light"
     },
     "output_type": "display_data"
    }
   ],
   "source": [
    "# Print confusion matrix\n",
    "cm = confusion_matrix(y_test, y_pred)\n",
    "\n",
    "ax= plt.subplot()\n",
    "sns.heatmap(cm, annot=True, ax = ax,cmap='Blues'); \n",
    "\n",
    "# labels, title and ticks\n",
    "ax.set_xlabel('Predicted labels');ax.set_ylabel('True labels'); \n",
    "ax.set_title('Confusion Matrix'); \n",
    "ax.xaxis.set_ticklabels([ \"negative\", \"neutral\",\"positive\"]);\n",
    "ax.yaxis.set_ticklabels([\"negative\", \"neutral\",\"positive\"],rotation = 0);"
   ]
  },
  {
   "cell_type": "markdown",
   "id": "8f8d383c",
   "metadata": {},
   "source": [
    "### After checking the performance of all those classification models, it's good performance but it's not the best. So in order to achieve better performance let's dive into Neural networks. I would be using Convolutional neural networks and Long short-term memory (LSTM) models and then compare their performances."
   ]
  },
  {
   "cell_type": "code",
   "execution_count": 35,
   "id": "02166009",
   "metadata": {},
   "outputs": [
    {
     "data": {
      "text/plain": [
       "array([[0, 0, 1],\n",
       "       [0, 0, 1],\n",
       "       [0, 0, 1],\n",
       "       ...,\n",
       "       [1, 0, 0],\n",
       "       [0, 0, 1],\n",
       "       [0, 0, 1]], dtype=uint8)"
      ]
     },
     "execution_count": 35,
     "metadata": {},
     "output_type": "execute_result"
    }
   ],
   "source": [
    "# test label\n",
    "y_test = pd.get_dummies(df_test['sentiment'])\n",
    "y_test = y_test.values\n",
    "\n",
    "# all training label\n",
    "y = pd.get_dummies(df_train['sentiment'])\n",
    "label = y.values\n",
    "label"
   ]
  },
  {
   "cell_type": "code",
   "execution_count": 36,
   "id": "68bd83fd",
   "metadata": {},
   "outputs": [
    {
     "name": "stdout",
     "output_type": "stream",
     "text": [
      "       text_length\n",
      "count  1544.000000\n",
      "mean      2.654145\n",
      "std       0.863801\n",
      "min       0.000000\n",
      "25%       2.000000\n",
      "50%       2.000000\n",
      "75%       3.000000\n",
      "max       6.000000\n",
      "\n",
      "       text_length\n",
      "count   673.000000\n",
      "mean      2.677563\n",
      "std       0.903886\n",
      "min       0.000000\n",
      "25%       2.000000\n",
      "50%       2.000000\n",
      "75%       3.000000\n",
      "max       6.000000\n"
     ]
    }
   ],
   "source": [
    "print(df_train.describe())\n",
    "print()\n",
    "print(df_test.describe())"
   ]
  },
  {
   "cell_type": "code",
   "execution_count": 37,
   "id": "a920ced4",
   "metadata": {},
   "outputs": [
    {
     "data": {
      "text/plain": [
       "array([[   0,    0,    0, ...,    0,   86,   53],\n",
       "       [   0,    0,    0, ...,  218,   29,   18],\n",
       "       [   0,    0,    0, ...,    0,   54,   38],\n",
       "       ...,\n",
       "       [   0,    0,    0, ...,    0,    1,   91],\n",
       "       [   0,    0,    0, ...,    0, 1295, 1296],\n",
       "       [   0,    0,    0, ...,  140, 1297,    9]])"
      ]
     },
     "execution_count": 37,
     "metadata": {},
     "output_type": "execute_result"
    }
   ],
   "source": [
    "from tensorflow.keras.preprocessing import text\n",
    "\n",
    "x = df_train['processed_text'].values\n",
    "\n",
    "max_features = 1500         # most freq 1500 words in the dataset would be kept\n",
    "max_text_length = 8        # as  max text length = 8\n",
    "\n",
    "# change each text into a sequence of integers, each integer being index of token in a dictionary\n",
    "tokenizer_x = text.Tokenizer(max_features)\n",
    "tokenizer_x.fit_on_texts(list(x))\n",
    "tokenized_x = tokenizer_x.texts_to_sequences(x)\n",
    "all_x_training = sequence.pad_sequences(tokenized_x,maxlen = max_text_length)#padding\n",
    "\n",
    "all_x_training"
   ]
  },
  {
   "cell_type": "code",
   "execution_count": 38,
   "id": "0122ecc1",
   "metadata": {},
   "outputs": [
    {
     "data": {
      "text/plain": [
       "array([[  0,   0,   0, ...,   0,  55,  18],\n",
       "       [  0,   0,   0, ...,   0,  21, 141],\n",
       "       [  0,   0,   0, ...,   0,   0, 107],\n",
       "       ...,\n",
       "       [  0,   0,   3, ...,   2, 739, 463],\n",
       "       [  0,   0,   0, ...,   0,  38, 247],\n",
       "       [  0,   0,   0, ...,   0, 265, 517]])"
      ]
     },
     "execution_count": 38,
     "metadata": {},
     "output_type": "execute_result"
    }
   ],
   "source": [
    "#tokenise and pad the text  with zeros to match the length\n",
    "tokenized_x_test = tokenizer_x.texts_to_sequences(df_test['processed_text'].values)\n",
    "x_testing = sequence.pad_sequences(tokenized_x_test,maxlen = max_text_length) \n",
    "\n",
    "x_testing"
   ]
  },
  {
   "cell_type": "code",
   "execution_count": 39,
   "id": "ea4bd4b6",
   "metadata": {},
   "outputs": [
    {
     "name": "stdout",
     "output_type": "stream",
     "text": [
      "Found 400000 word vectors\n"
     ]
    }
   ],
   "source": [
    "# open glove and store word embeddings\n",
    "embedding_dim = 100\n",
    "embeddings_index = dict()\n",
    "\n",
    "f = open('glove.6B.100d.txt', encoding=\"utf8\")\n",
    "\n",
    "for line in f:\n",
    "    values = line.split()\n",
    "    word = values[0]\n",
    "    coefs = np.asarray(values[1:],dtype = 'float32') #store all excepy val[0]\n",
    "    embeddings_index[word] = coefs                  #populate embedding dict\n",
    "    \n",
    "f.close()\n",
    "\n",
    "print(f'Found {len(embeddings_index)} word vectors') "
   ]
  },
  {
   "cell_type": "code",
   "execution_count": 40,
   "id": "ad15cad0",
   "metadata": {},
   "outputs": [
    {
     "data": {
      "text/plain": [
       "(1500, 100)"
      ]
     },
     "execution_count": 40,
     "metadata": {},
     "output_type": "execute_result"
    }
   ],
   "source": [
    "# prepare embedding_matrix\n",
    "\n",
    "matrix_embeddings = np.zeros((max_features,embedding_dim))\n",
    "\n",
    "for word,index in tokenizer_x.word_index.items():\n",
    "    \n",
    "    if index> max_features -1: #bounding by max feat\n",
    "        break\n",
    "    else:\n",
    "        embedding_vector = embeddings_index.get(word)\n",
    "    if embedding_vector is not None:\n",
    "        matrix_embeddings[index] = embedding_vector\n",
    "\n",
    "matrix_embeddings.shape"
   ]
  },
  {
   "cell_type": "code",
   "execution_count": 41,
   "id": "8d507980",
   "metadata": {},
   "outputs": [
    {
     "name": "stdout",
     "output_type": "stream",
     "text": [
      "[[ 0.          0.          0.         ...  0.          0.\n",
      "   0.        ]\n",
      " [-0.16486     0.91996998  0.22736999 ... -0.067904    1.5072\n",
      "   0.60889   ]\n",
      " [-0.4224     -0.13313    -0.41418001 ... -0.070558    0.12285\n",
      "   0.43399999]\n",
      " ...\n",
      " [ 0.          0.          0.         ...  0.          0.\n",
      "   0.        ]\n",
      " [ 0.          0.          0.         ...  0.          0.\n",
      "   0.        ]\n",
      " [ 0.          0.          0.         ...  0.          0.\n",
      "   0.        ]]\n"
     ]
    }
   ],
   "source": [
    "print(matrix_embeddings)"
   ]
  },
  {
   "cell_type": "code",
   "execution_count": 42,
   "id": "46d62c17",
   "metadata": {},
   "outputs": [
    {
     "name": "stdout",
     "output_type": "stream",
     "text": [
      "(1235, 8)\n",
      "(1235, 3)\n",
      "(309, 8)\n",
      "(309, 3)\n"
     ]
    }
   ],
   "source": [
    "# split data into training and vslidation set\n",
    "x_train, x_valid, y_train, y_valid = train_test_split(all_x_training ,label, test_size=0.2, random_state=77, shuffle = True)\n",
    "\n",
    "print(x_train.shape)\n",
    "print(y_train.shape)\n",
    "\n",
    "print(x_valid.shape)\n",
    "print(y_valid.shape)"
   ]
  },
  {
   "cell_type": "code",
   "execution_count": 43,
   "id": "e18a3683",
   "metadata": {},
   "outputs": [
    {
     "data": {
      "text/plain": [
       "array([[  0,   0,   0, ...,   0, 444, 786],\n",
       "       [  0,   0,   0, ..., 167,   3, 204],\n",
       "       [  0,   0,   0, ...,   0,  13, 922],\n",
       "       ...,\n",
       "       [  0,   0,   0, ...,  21,  39, 674],\n",
       "       [  0,   0,   0, ...,   0,   1,  59],\n",
       "       [  0,   0,   0, ...,   0,  31,   4]])"
      ]
     },
     "execution_count": 43,
     "metadata": {},
     "output_type": "execute_result"
    }
   ],
   "source": [
    "x_train"
   ]
  },
  {
   "cell_type": "code",
   "execution_count": 44,
   "id": "994cc5b8",
   "metadata": {},
   "outputs": [],
   "source": [
    "\n",
    "# plot accuracy and loss curves\n",
    "def history_plot(history):\n",
    "    \n",
    "    plt.figure(figsize=(8,5),linewidth = 7, edgecolor=\"whitesmoke\")    \n",
    "    n = len(history.history['accuracy'])\n",
    "    \n",
    "    plt.plot(np.arange(0,n)+1,history.history['accuracy'], color='orange',marker=\".\")\n",
    "    plt.plot(np.arange(0,n)+1,history.history['loss'],'b',marker=\".\")\n",
    "    \n",
    "    # offset both validation curves\n",
    "    plt.plot(np.arange(0,n)+ 1,history.history['val_accuracy'],'r')  \n",
    "    plt.plot(np.arange(0,n)+ 1,history.history['val_loss'],'g')\n",
    "    \n",
    "    plt.legend(['Train Acc','Train Loss','Val Acc','Val Loss'])\n",
    "    plt.grid(True)\n",
    "    \n",
    "    # set vertical limit to 1\n",
    "    plt.gca().set_ylim(0,1)\n",
    "\n",
    "    plt.xlabel(\"Number of Epochs\")\n",
    "    plt.ylabel(\"Value\")\n",
    "    plt.suptitle(\"Learning Curve\", size=16, y=0.927)\n",
    "    plt.show() \n"
   ]
  },
  {
   "cell_type": "code",
   "execution_count": 45,
   "id": "f7d6d5d7",
   "metadata": {},
   "outputs": [],
   "source": [
    "#function to evaluate the model using validation data\n",
    "def evaluate_models(model_name):\n",
    "    \n",
    "    result_val = model_name.evaluate(x_valid, y_valid, verbose=0)\n",
    "    \n",
    "    print(\"Validation set\")\n",
    "    print('loss:', result_val[0])\n",
    "    print(\"accuracy:\" ,result_val[1])\n",
    "    \n",
    "    return result_val[1], result_val[0]\n",
    "#function to evaluate the model using test data\n",
    "def evalulate_test_models(model_name):\n",
    "    \n",
    "    result_test = model_name.evaluate(x_testing, y_test, verbose=0)\n",
    "    \n",
    "    print(\"Test set\")\n",
    "    print('loss:', result_test[0])\n",
    "    print(\"accuracy:\" ,result_test[1])\n",
    "    "
   ]
  },
  {
   "cell_type": "code",
   "execution_count": 46,
   "id": "7e568bb5",
   "metadata": {},
   "outputs": [],
   "source": [
    "# set some parameter values\n",
    "\n",
    "embedding_dim = 100\n",
    "max_features = 1500   \n",
    "actfn = 'relu'\n",
    "optimizer_ = tf.optimizers.Adam\n",
    "learningrate = 0.001\n",
    "batch_size = 20"
   ]
  },
  {
   "cell_type": "code",
   "execution_count": 47,
   "id": "02346684",
   "metadata": {},
   "outputs": [],
   "source": [
    "# function to build the CNN model \n",
    "def CNN_Model():\n",
    "    \n",
    "    model = Sequential()\n",
    "    \n",
    "    #create embedding layer\n",
    "    model.add(Embedding(max_features, embedding_dim, trainable = False ,embeddings_initializer = tf.keras.initializers.Constant(matrix_embeddings)))  \n",
    "\n",
    "    # 1st dropout\n",
    "    model.add(Dropout(0.4))\n",
    "    \n",
    "    # 1st convolutional 1-D layer\n",
    "    model.add(Conv1D(32,3, padding = 'valid',activation = actfn)) #no padding\n",
    "    \n",
    "    #max pooling layer\n",
    "    model.add(MaxPooling1D())\n",
    "    \n",
    "    # 2nd convolutional 1-D layer\n",
    "    model.add(Conv1D(64, 3, padding = 'valid', activation = actfn))\n",
    "    \n",
    "    # global max pooling layer\n",
    "    model.add(GlobalMaxPooling1D())\n",
    "    \n",
    "    # 1st dense layer\n",
    "    model.add(Dense(6,activation = actfn))\n",
    "    \n",
    "    # 2nd dropout\n",
    "    model.add(Dropout(0.4))\n",
    "    \n",
    "    # final dense layer\n",
    "    model.add(Dense(3,activation = 'softmax')) #sigmoid\n",
    "    \n",
    "    # compile the model\n",
    "    model.compile(loss = 'categorical_crossentropy',    \n",
    "                 optimizer = optimizer_(learning_rate = 0.001),\n",
    "                 metrics = ['accuracy']) \n",
    "\n",
    "    return model"
   ]
  },
  {
   "cell_type": "code",
   "execution_count": 48,
   "id": "a7705757",
   "metadata": {},
   "outputs": [],
   "source": [
    "# function to build the LSTM model \n",
    "def LSTM_Model():\n",
    "    \n",
    "    model = Sequential()\n",
    "    \n",
    "    #create embedding layer\n",
    "    model.add(Embedding(max_features, embedding_dim, trainable = False ,embeddings_initializer = tf.keras.initializers.Constant(matrix_embeddings)))  \n",
    "\n",
    "    model.add(layers.Bidirectional(layers.LSTM(20, dropout=0.5,activation='tanh')))\n",
    "\n",
    "    model.add(Dense(10, activation='relu'))\n",
    "\n",
    "    # final dense layer\n",
    "    model.add(Dense(3,activation = 'softmax'))\n",
    "    \n",
    "    # compile the model\n",
    "    model.compile(loss = 'categorical_crossentropy',    \n",
    "                 optimizer = 'rmsprop'     ,   \n",
    "                 metrics = ['accuracy']) \n",
    "\n",
    "    return model\n"
   ]
  },
  {
   "cell_type": "code",
   "execution_count": 49,
   "id": "c0cc0344",
   "metadata": {},
   "outputs": [],
   "source": [
    "# function to compile and fit the model \n",
    "def run_model_functions(actfn, n_epochs, batch_size, model):\n",
    "    \n",
    "    es = EarlyStopping(monitor='val_accuracy', mode='max', verbose = 1 ,patience= 20, restore_best_weights = True ) \n",
    "    \n",
    "    # fit the model\n",
    "    history = model.fit(x_train,y_train,\n",
    "              batch_size = batch_size,\n",
    "              epochs = n_epochs,\n",
    "              validation_data=(x_valid,y_valid),\n",
    "              callbacks=[es] )\n",
    "    \n",
    "    return (history, model)"
   ]
  },
  {
   "cell_type": "markdown",
   "id": "731385d7",
   "metadata": {},
   "source": [
    "#### Running CNN model"
   ]
  },
  {
   "cell_type": "code",
   "execution_count": 50,
   "id": "9ab57c5f",
   "metadata": {},
   "outputs": [
    {
     "name": "stdout",
     "output_type": "stream",
     "text": [
      "Epoch 1/100\n",
      "62/62 [==============================] - 5s 12ms/step - loss: 1.0052 - accuracy: 0.6251 - val_loss: 0.9658 - val_accuracy: 0.5955\n",
      "Epoch 2/100\n",
      "62/62 [==============================] - 1s 9ms/step - loss: 0.9373 - accuracy: 0.6364 - val_loss: 0.9276 - val_accuracy: 0.5955\n",
      "Epoch 3/100\n",
      "62/62 [==============================] - 1s 12ms/step - loss: 0.9370 - accuracy: 0.6364 - val_loss: 0.9153 - val_accuracy: 0.5955\n",
      "Epoch 4/100\n",
      "62/62 [==============================] - 1s 10ms/step - loss: 0.9079 - accuracy: 0.6364 - val_loss: 0.8990 - val_accuracy: 0.5955\n",
      "Epoch 5/100\n",
      "62/62 [==============================] - 1s 12ms/step - loss: 0.8983 - accuracy: 0.6364 - val_loss: 0.8953 - val_accuracy: 0.5955\n",
      "Epoch 6/100\n",
      "62/62 [==============================] - 1s 12ms/step - loss: 0.8877 - accuracy: 0.6372 - val_loss: 0.8787 - val_accuracy: 0.5955\n",
      "Epoch 7/100\n",
      "62/62 [==============================] - 0s 7ms/step - loss: 0.8730 - accuracy: 0.6364 - val_loss: 0.8703 - val_accuracy: 0.5955\n",
      "Epoch 8/100\n",
      "62/62 [==============================] - 0s 6ms/step - loss: 0.8282 - accuracy: 0.6364 - val_loss: 0.8541 - val_accuracy: 0.5955\n",
      "Epoch 9/100\n",
      "62/62 [==============================] - 0s 6ms/step - loss: 0.8166 - accuracy: 0.6372 - val_loss: 0.8472 - val_accuracy: 0.5955\n",
      "Epoch 10/100\n",
      "62/62 [==============================] - 0s 5ms/step - loss: 0.8076 - accuracy: 0.6364 - val_loss: 0.8583 - val_accuracy: 0.5955\n",
      "Epoch 11/100\n",
      "62/62 [==============================] - 0s 5ms/step - loss: 0.7986 - accuracy: 0.6364 - val_loss: 0.8493 - val_accuracy: 0.5955\n",
      "Epoch 12/100\n",
      "62/62 [==============================] - 0s 6ms/step - loss: 0.7840 - accuracy: 0.6364 - val_loss: 0.8527 - val_accuracy: 0.5955\n",
      "Epoch 13/100\n",
      "62/62 [==============================] - 0s 6ms/step - loss: 0.7889 - accuracy: 0.6372 - val_loss: 0.8472 - val_accuracy: 0.5955\n",
      "Epoch 14/100\n",
      "62/62 [==============================] - 0s 7ms/step - loss: 0.7738 - accuracy: 0.6381 - val_loss: 0.8524 - val_accuracy: 0.5955\n",
      "Epoch 15/100\n",
      "62/62 [==============================] - 1s 9ms/step - loss: 0.7859 - accuracy: 0.6381 - val_loss: 0.8406 - val_accuracy: 0.5955\n",
      "Epoch 16/100\n",
      "62/62 [==============================] - 1s 9ms/step - loss: 0.7840 - accuracy: 0.6397 - val_loss: 0.8516 - val_accuracy: 0.5955\n",
      "Epoch 17/100\n",
      "62/62 [==============================] - 1s 8ms/step - loss: 0.7608 - accuracy: 0.6405 - val_loss: 0.8514 - val_accuracy: 0.5955\n",
      "Epoch 18/100\n",
      "62/62 [==============================] - 1s 8ms/step - loss: 0.7664 - accuracy: 0.6389 - val_loss: 0.8399 - val_accuracy: 0.5955\n",
      "Epoch 19/100\n",
      "62/62 [==============================] - 1s 9ms/step - loss: 0.7635 - accuracy: 0.6413 - val_loss: 0.8596 - val_accuracy: 0.5955\n",
      "Epoch 20/100\n",
      "62/62 [==============================] - 1s 9ms/step - loss: 0.7449 - accuracy: 0.6437 - val_loss: 0.8572 - val_accuracy: 0.5922\n",
      "Epoch 21/100\n",
      "62/62 [==============================] - 1s 9ms/step - loss: 0.7504 - accuracy: 0.6397 - val_loss: 0.8500 - val_accuracy: 0.5955\n",
      "Restoring model weights from the end of the best epoch.\n",
      "Epoch 00021: early stopping\n"
     ]
    },
    {
     "data": {
      "image/png": "[encoded data removed]",
      "text/plain": [
       "<Figure size 576x360 with 1 Axes>"
      ]
     },
     "metadata": {
      "needs_background": "light"
     },
     "output_type": "display_data"
    },
    {
     "name": "stdout",
     "output_type": "stream",
     "text": [
      "\n",
      "Validation set\n",
      "loss: 0.9658093452453613\n",
      "accuracy: 0.5954692363739014\n"
     ]
    }
   ],
   "source": [
    "# Run CNN Model\n",
    "tf.random.set_seed(seed_value)\n",
    "\n",
    "history_cnn, model_cnn_ = run_model_functions (actfn, 100, batch_size, CNN_Model())\n",
    "history_plot(history_cnn) \n",
    "print()\n",
    "\n",
    "cnn_accuracy, cnn_loss = evaluate_models(model_cnn_)\n"
   ]
  },
  {
   "cell_type": "markdown",
   "id": "d0316f39",
   "metadata": {},
   "source": [
    "#### Running LSTM model"
   ]
  },
  {
   "cell_type": "code",
   "execution_count": 51,
   "id": "2ccc1c8c",
   "metadata": {
    "scrolled": false
   },
   "outputs": [
    {
     "name": "stdout",
     "output_type": "stream",
     "text": [
      "Epoch 1/100\n",
      "62/62 [==============================] - 8s 26ms/step - loss: 0.9809 - accuracy: 0.5360 - val_loss: 0.9136 - val_accuracy: 0.5955\n",
      "Epoch 2/100\n",
      "62/62 [==============================] - 1s 14ms/step - loss: 0.8749 - accuracy: 0.6356 - val_loss: 0.8981 - val_accuracy: 0.5955\n",
      "Epoch 3/100\n",
      "62/62 [==============================] - 1s 16ms/step - loss: 0.8469 - accuracy: 0.6364 - val_loss: 0.8695 - val_accuracy: 0.5922\n",
      "Epoch 4/100\n",
      "62/62 [==============================] - 1s 17ms/step - loss: 0.8103 - accuracy: 0.6462 - val_loss: 0.8499 - val_accuracy: 0.5858\n",
      "Epoch 5/100\n",
      "62/62 [==============================] - 1s 23ms/step - loss: 0.7856 - accuracy: 0.6672 - val_loss: 0.8511 - val_accuracy: 0.5955\n",
      "Epoch 6/100\n",
      "62/62 [==============================] - 1s 23ms/step - loss: 0.7705 - accuracy: 0.6745 - val_loss: 0.8241 - val_accuracy: 0.6246\n",
      "Epoch 7/100\n",
      "62/62 [==============================] - 1s 20ms/step - loss: 0.7658 - accuracy: 0.6729 - val_loss: 0.8340 - val_accuracy: 0.6019\n",
      "Epoch 8/100\n",
      "62/62 [==============================] - 1s 16ms/step - loss: 0.7390 - accuracy: 0.6729 - val_loss: 0.8134 - val_accuracy: 0.6246\n",
      "Epoch 9/100\n",
      "62/62 [==============================] - 1s 15ms/step - loss: 0.7377 - accuracy: 0.6858 - val_loss: 0.8329 - val_accuracy: 0.6246\n",
      "Epoch 10/100\n",
      "62/62 [==============================] - 1s 15ms/step - loss: 0.7384 - accuracy: 0.6826 - val_loss: 0.7985 - val_accuracy: 0.6343\n",
      "Epoch 11/100\n",
      "62/62 [==============================] - 1s 14ms/step - loss: 0.7413 - accuracy: 0.6964 - val_loss: 0.8264 - val_accuracy: 0.6246\n",
      "Epoch 12/100\n",
      "62/62 [==============================] - 1s 14ms/step - loss: 0.7261 - accuracy: 0.6866 - val_loss: 0.8424 - val_accuracy: 0.6214\n",
      "Epoch 13/100\n",
      "62/62 [==============================] - 1s 13ms/step - loss: 0.7171 - accuracy: 0.6915 - val_loss: 0.8030 - val_accuracy: 0.6472\n",
      "Epoch 14/100\n",
      "62/62 [==============================] - 1s 22ms/step - loss: 0.7057 - accuracy: 0.7053 - val_loss: 0.8162 - val_accuracy: 0.6375\n",
      "Epoch 15/100\n",
      "62/62 [==============================] - 1s 21ms/step - loss: 0.6810 - accuracy: 0.7077 - val_loss: 0.8191 - val_accuracy: 0.6537\n",
      "Epoch 16/100\n",
      "62/62 [==============================] - 1s 21ms/step - loss: 0.6833 - accuracy: 0.7158 - val_loss: 0.8418 - val_accuracy: 0.6537\n",
      "Epoch 17/100\n",
      "62/62 [==============================] - 1s 19ms/step - loss: 0.6775 - accuracy: 0.7150 - val_loss: 0.8890 - val_accuracy: 0.6214\n",
      "Epoch 18/100\n",
      "62/62 [==============================] - 1s 12ms/step - loss: 0.6767 - accuracy: 0.7126 - val_loss: 0.8417 - val_accuracy: 0.6214\n",
      "Epoch 19/100\n",
      "62/62 [==============================] - 1s 12ms/step - loss: 0.6597 - accuracy: 0.7142 - val_loss: 0.8048 - val_accuracy: 0.6634\n",
      "Epoch 20/100\n",
      "62/62 [==============================] - 1s 14ms/step - loss: 0.6547 - accuracy: 0.7287 - val_loss: 0.8464 - val_accuracy: 0.6570\n",
      "Epoch 21/100\n",
      "62/62 [==============================] - 1s 14ms/step - loss: 0.6578 - accuracy: 0.7142 - val_loss: 0.7970 - val_accuracy: 0.6602\n",
      "Epoch 22/100\n",
      "62/62 [==============================] - 1s 13ms/step - loss: 0.6326 - accuracy: 0.7466 - val_loss: 0.8523 - val_accuracy: 0.6440\n",
      "Epoch 23/100\n",
      "62/62 [==============================] - 1s 12ms/step - loss: 0.6628 - accuracy: 0.7239 - val_loss: 0.8469 - val_accuracy: 0.6505\n",
      "Epoch 24/100\n",
      "62/62 [==============================] - 1s 13ms/step - loss: 0.6285 - accuracy: 0.7393 - val_loss: 0.8370 - val_accuracy: 0.6699\n",
      "Epoch 25/100\n",
      "62/62 [==============================] - 1s 12ms/step - loss: 0.6240 - accuracy: 0.7457 - val_loss: 0.8335 - val_accuracy: 0.6343\n",
      "Epoch 26/100\n",
      "62/62 [==============================] - 1s 13ms/step - loss: 0.6309 - accuracy: 0.7328 - val_loss: 0.8646 - val_accuracy: 0.6311\n",
      "Epoch 27/100\n",
      "62/62 [==============================] - 1s 12ms/step - loss: 0.6136 - accuracy: 0.7385 - val_loss: 0.8295 - val_accuracy: 0.6311\n",
      "Epoch 28/100\n",
      "62/62 [==============================] - 1s 12ms/step - loss: 0.6023 - accuracy: 0.7514 - val_loss: 0.8253 - val_accuracy: 0.6570\n",
      "Epoch 29/100\n",
      "62/62 [==============================] - 1s 13ms/step - loss: 0.5996 - accuracy: 0.7619 - val_loss: 0.8420 - val_accuracy: 0.6505\n",
      "Epoch 30/100\n",
      "62/62 [==============================] - 1s 12ms/step - loss: 0.6078 - accuracy: 0.7522 - val_loss: 0.8809 - val_accuracy: 0.6375\n",
      "Epoch 31/100\n",
      "62/62 [==============================] - 1s 12ms/step - loss: 0.5999 - accuracy: 0.7425 - val_loss: 0.8930 - val_accuracy: 0.6472\n",
      "Epoch 32/100\n",
      "62/62 [==============================] - 2s 32ms/step - loss: 0.5744 - accuracy: 0.7619 - val_loss: 0.8655 - val_accuracy: 0.6375\n",
      "Epoch 33/100\n",
      "62/62 [==============================] - 1s 18ms/step - loss: 0.5831 - accuracy: 0.7563 - val_loss: 0.8702 - val_accuracy: 0.6472\n",
      "Epoch 34/100\n",
      "62/62 [==============================] - 1s 18ms/step - loss: 0.5875 - accuracy: 0.7498 - val_loss: 0.8619 - val_accuracy: 0.6408\n",
      "Epoch 35/100\n",
      "62/62 [==============================] - 1s 19ms/step - loss: 0.5579 - accuracy: 0.7700 - val_loss: 0.9217 - val_accuracy: 0.6440\n",
      "Epoch 36/100\n",
      "62/62 [==============================] - 2s 27ms/step - loss: 0.5722 - accuracy: 0.7733 - val_loss: 0.8807 - val_accuracy: 0.6375\n",
      "Epoch 37/100\n",
      "62/62 [==============================] - 1s 22ms/step - loss: 0.5492 - accuracy: 0.7684 - val_loss: 0.9024 - val_accuracy: 0.6375\n",
      "Epoch 38/100\n",
      "62/62 [==============================] - 1s 22ms/step - loss: 0.5500 - accuracy: 0.7781 - val_loss: 0.8919 - val_accuracy: 0.6375\n",
      "Epoch 39/100\n",
      "62/62 [==============================] - 1s 23ms/step - loss: 0.5369 - accuracy: 0.7773 - val_loss: 0.9065 - val_accuracy: 0.6181\n",
      "Epoch 40/100\n",
      "62/62 [==============================] - 1s 19ms/step - loss: 0.5529 - accuracy: 0.7717 - val_loss: 0.8984 - val_accuracy: 0.6052\n",
      "Epoch 41/100\n",
      "62/62 [==============================] - 1s 22ms/step - loss: 0.5468 - accuracy: 0.7798 - val_loss: 0.9331 - val_accuracy: 0.6440\n",
      "Epoch 42/100\n",
      "62/62 [==============================] - 1s 18ms/step - loss: 0.5072 - accuracy: 0.8016 - val_loss: 0.9228 - val_accuracy: 0.6440\n",
      "Epoch 43/100\n",
      "62/62 [==============================] - 1s 19ms/step - loss: 0.5321 - accuracy: 0.7798 - val_loss: 0.9194 - val_accuracy: 0.6408\n",
      "Epoch 44/100\n",
      "62/62 [==============================] - 1s 22ms/step - loss: 0.5105 - accuracy: 0.7943 - val_loss: 0.9294 - val_accuracy: 0.6440\n",
      "Restoring model weights from the end of the best epoch.\n",
      "Epoch 00044: early stopping\n"
     ]
    },
    {
     "data": {
      "image/png": "[encoded data removed]",
      "text/plain": [
       "<Figure size 576x360 with 1 Axes>"
      ]
     },
     "metadata": {
      "needs_background": "light"
     },
     "output_type": "display_data"
    },
    {
     "name": "stdout",
     "output_type": "stream",
     "text": [
      "\n",
      "Validation set\n",
      "loss: 0.8369725346565247\n",
      "accuracy: 0.6699029207229614\n"
     ]
    }
   ],
   "source": [
    "# Run LSTM model\n",
    "\n",
    "seed_value = 2\n",
    "random.seed(seed_value)\n",
    "np.random.seed(seed_value)\n",
    "tf.random.set_seed(seed_value)\n",
    "\n",
    "history_1stm, model_1stm = run_model_functions (actfn, 100, batch_size,  LSTM_Model())\n",
    "history_plot(history_1stm) \n",
    "\n",
    "print()\n",
    "\n",
    "lstm_accuracy, lstm_loss = evaluate_models(model_1stm)"
   ]
  },
  {
   "cell_type": "code",
   "execution_count": 52,
   "id": "8d4f1c8b",
   "metadata": {},
   "outputs": [],
   "source": [
    "from tabulate import tabulate\n",
    "\n",
    "table = [['Neural Network Models', 'Accuracy' , 'Loss'], \n",
    "         ['Convolutional Neural Networks', cnn_accuracy, cnn_loss], \n",
    "         ['Long Short-Term Memory Networks', lstm_accuracy, lstm_loss]]"
   ]
  },
  {
   "cell_type": "code",
   "execution_count": 53,
   "id": "e96a7b7b",
   "metadata": {
    "scrolled": true
   },
   "outputs": [
    {
     "name": "stdout",
     "output_type": "stream",
     "text": [
      "-------------------------------  ------------------  ------------------\n",
      "Neural Network Models            Accuracy            Loss\n",
      "Convolutional Neural Networks    0.5954692363739014  0.9658093452453613\n",
      "Long Short-Term Memory Networks  0.6699029207229614  0.8369725346565247\n",
      "-------------------------------  ------------------  ------------------\n"
     ]
    }
   ],
   "source": [
    "print(tabulate(table))"
   ]
  },
  {
   "cell_type": "markdown",
   "id": "3074f9d0",
   "metadata": {},
   "source": [
    "### Let's test the LSTM model on testing data"
   ]
  },
  {
   "cell_type": "code",
   "execution_count": 54,
   "id": "ad5e5770",
   "metadata": {},
   "outputs": [],
   "source": [
    "y_pred = model_1stm.predict(x_testing)"
   ]
  },
  {
   "cell_type": "code",
   "execution_count": 55,
   "id": "ac7446ae",
   "metadata": {},
   "outputs": [
    {
     "name": "stdout",
     "output_type": "stream",
     "text": [
      "              precision    recall  f1-score   support\n",
      "\n",
      "    negative       0.61      0.35      0.45       159\n",
      "     neutral       0.38      0.18      0.24        90\n",
      "    positive       0.73      0.93      0.82       424\n",
      "\n",
      "    accuracy                           0.69       673\n",
      "   macro avg       0.57      0.49      0.50       673\n",
      "weighted avg       0.66      0.69      0.65       673\n",
      "\n"
     ]
    }
   ],
   "source": [
    "# classification_report\n",
    "report = metrics.classification_report(y_test.argmax(axis=1), y_pred.argmax(axis=1) ,target_names=[\"negative\", \"neutral\",\"positive\"],labels = [0,1,2])\n",
    "print(report)"
   ]
  },
  {
   "cell_type": "markdown",
   "id": "2a9fc0d0",
   "metadata": {},
   "source": [
    "### Based on the results we can see that LSTM is performing better than CNN in both aspects, Accuracy is increased and loss is decreased. \n",
    "\n",
    "### Now let's check textblob library :- \n",
    "- Sentiment analysis is a feature that comes standard with the TextBlob library. It takes a \"bag-of-words\" approach, which means that it contains a list of terms with sentiment scores associated with them, including \"fine,\" \"poor,\" and \"excellent.\" Additionally, it can recognise intensifiers like \"very\" and modifiers like \"not\" that have an impact on the sentiment score."
   ]
  },
  {
   "cell_type": "code",
   "execution_count": 56,
   "id": "9ebb120d",
   "metadata": {
    "scrolled": true
   },
   "outputs": [],
   "source": [
    "from textblob import TextBlob\n",
    "# function to calculate subjectivity\n",
    "def getSubjectivity(review):\n",
    "    return TextBlob(review).sentiment.subjectivity\n",
    "# function to calculate polarity\n",
    "def getPolarity(review):\n",
    "    return TextBlob(review).sentiment.polarity\n",
    "\n",
    "# function to analyze the reviews\n",
    "def analysis(score):\n",
    "    if score < 0:\n",
    "        return 'negative'\n",
    "    elif score == 0:\n",
    "        return 'neutral'\n",
    "    else:\n",
    "        return 'positive'"
   ]
  },
  {
   "cell_type": "code",
   "execution_count": 57,
   "id": "6cf24748",
   "metadata": {},
   "outputs": [
    {
     "data": {
      "text/html": [
       "<div>\n",
       "<style scoped>\n",
       "    .dataframe tbody tr th:only-of-type {\n",
       "        vertical-align: middle;\n",
       "    }\n",
       "\n",
       "    .dataframe tbody tr th {\n",
       "        vertical-align: top;\n",
       "    }\n",
       "\n",
       "    .dataframe thead th {\n",
       "        text-align: right;\n",
       "    }\n",
       "</style>\n",
       "<table border=\"1\" class=\"dataframe\">\n",
       "  <thead>\n",
       "    <tr style=\"text-align: right;\">\n",
       "      <th></th>\n",
       "      <th>text</th>\n",
       "      <th>processed_text</th>\n",
       "      <th>text_length</th>\n",
       "      <th>sentiment</th>\n",
       "    </tr>\n",
       "  </thead>\n",
       "  <tbody>\n",
       "    <tr>\n",
       "      <th>2791</th>\n",
       "      <td>who cuisine at fine</td>\n",
       "      <td>cuisine fine</td>\n",
       "      <td>2</td>\n",
       "      <td>positive</td>\n",
       "    </tr>\n",
       "    <tr>\n",
       "      <th>988</th>\n",
       "      <td>Pizza crust like ! - pizza</td>\n",
       "      <td>pizza crust like pizza</td>\n",
       "      <td>4</td>\n",
       "      <td>positive</td>\n",
       "    </tr>\n",
       "    <tr>\n",
       "      <th>1890</th>\n",
       "      <td>priced well</td>\n",
       "      <td>priced well</td>\n",
       "      <td>2</td>\n",
       "      <td>positive</td>\n",
       "    </tr>\n",
       "    <tr>\n",
       "      <th>573</th>\n",
       "      <td>a good wine</td>\n",
       "      <td>good wine</td>\n",
       "      <td>2</td>\n",
       "      <td>positive</td>\n",
       "    </tr>\n",
       "    <tr>\n",
       "      <th>1267</th>\n",
       "      <td>and prices mediocre . the here</td>\n",
       "      <td>price mediocre</td>\n",
       "      <td>2</td>\n",
       "      <td>neutral</td>\n",
       "    </tr>\n",
       "  </tbody>\n",
       "</table>\n",
       "</div>"
      ],
      "text/plain": [
       "                                text          processed_text  text_length  \\\n",
       "2791             who cuisine at fine            cuisine fine            2   \n",
       "988       Pizza crust like ! - pizza  pizza crust like pizza            4   \n",
       "1890                     priced well             priced well            2   \n",
       "573                      a good wine               good wine            2   \n",
       "1267  and prices mediocre . the here          price mediocre            2   \n",
       "\n",
       "     sentiment  \n",
       "2791  positive  \n",
       "988   positive  \n",
       "1890  positive  \n",
       "573   positive  \n",
       "1267   neutral  "
      ]
     },
     "execution_count": 57,
     "metadata": {},
     "output_type": "execute_result"
    }
   ],
   "source": [
    "df_train.head()"
   ]
  },
  {
   "cell_type": "code",
   "execution_count": 58,
   "id": "d0565f6c",
   "metadata": {
    "scrolled": false
   },
   "outputs": [
    {
     "data": {
      "text/html": [
       "<div>\n",
       "<style scoped>\n",
       "    .dataframe tbody tr th:only-of-type {\n",
       "        vertical-align: middle;\n",
       "    }\n",
       "\n",
       "    .dataframe tbody tr th {\n",
       "        vertical-align: top;\n",
       "    }\n",
       "\n",
       "    .dataframe thead th {\n",
       "        text-align: right;\n",
       "    }\n",
       "</style>\n",
       "<table border=\"1\" class=\"dataframe\">\n",
       "  <thead>\n",
       "    <tr style=\"text-align: right;\">\n",
       "      <th></th>\n",
       "      <th>text</th>\n",
       "      <th>processed_text</th>\n",
       "      <th>text_length</th>\n",
       "      <th>sentiment</th>\n",
       "      <th>Subjectivity</th>\n",
       "      <th>Polarity</th>\n",
       "      <th>Analysis</th>\n",
       "    </tr>\n",
       "  </thead>\n",
       "  <tbody>\n",
       "    <tr>\n",
       "      <th>2791</th>\n",
       "      <td>who cuisine at fine</td>\n",
       "      <td>cuisine fine</td>\n",
       "      <td>2</td>\n",
       "      <td>positive</td>\n",
       "      <td>0.5</td>\n",
       "      <td>0.416667</td>\n",
       "      <td>positive</td>\n",
       "    </tr>\n",
       "    <tr>\n",
       "      <th>988</th>\n",
       "      <td>Pizza crust like ! - pizza</td>\n",
       "      <td>pizza crust like pizza</td>\n",
       "      <td>4</td>\n",
       "      <td>positive</td>\n",
       "      <td>0.0</td>\n",
       "      <td>0.000000</td>\n",
       "      <td>neutral</td>\n",
       "    </tr>\n",
       "    <tr>\n",
       "      <th>1890</th>\n",
       "      <td>priced well</td>\n",
       "      <td>priced well</td>\n",
       "      <td>2</td>\n",
       "      <td>positive</td>\n",
       "      <td>0.0</td>\n",
       "      <td>0.000000</td>\n",
       "      <td>neutral</td>\n",
       "    </tr>\n",
       "    <tr>\n",
       "      <th>573</th>\n",
       "      <td>a good wine</td>\n",
       "      <td>good wine</td>\n",
       "      <td>2</td>\n",
       "      <td>positive</td>\n",
       "      <td>0.6</td>\n",
       "      <td>0.700000</td>\n",
       "      <td>positive</td>\n",
       "    </tr>\n",
       "    <tr>\n",
       "      <th>1267</th>\n",
       "      <td>and prices mediocre . the here</td>\n",
       "      <td>price mediocre</td>\n",
       "      <td>2</td>\n",
       "      <td>neutral</td>\n",
       "      <td>1.0</td>\n",
       "      <td>-0.500000</td>\n",
       "      <td>negative</td>\n",
       "    </tr>\n",
       "  </tbody>\n",
       "</table>\n",
       "</div>"
      ],
      "text/plain": [
       "                                text          processed_text  text_length  \\\n",
       "2791             who cuisine at fine            cuisine fine            2   \n",
       "988       Pizza crust like ! - pizza  pizza crust like pizza            4   \n",
       "1890                     priced well             priced well            2   \n",
       "573                      a good wine               good wine            2   \n",
       "1267  and prices mediocre . the here          price mediocre            2   \n",
       "\n",
       "     sentiment  Subjectivity  Polarity  Analysis  \n",
       "2791  positive           0.5  0.416667  positive  \n",
       "988   positive           0.0  0.000000   neutral  \n",
       "1890  positive           0.0  0.000000   neutral  \n",
       "573   positive           0.6  0.700000  positive  \n",
       "1267   neutral           1.0 -0.500000  negative  "
      ]
     },
     "execution_count": 58,
     "metadata": {},
     "output_type": "execute_result"
    }
   ],
   "source": [
    "df_train['Subjectivity'] = df_train['processed_text'].apply(getSubjectivity) \n",
    "df_train['Polarity'] = df_train['processed_text'].apply(getPolarity) \n",
    "df_train['Analysis'] = df_train['Polarity'].apply(analysis)\n",
    "df_train.head()"
   ]
  },
  {
   "cell_type": "code",
   "execution_count": 59,
   "id": "abf84a15",
   "metadata": {},
   "outputs": [
    {
     "data": {
      "text/html": [
       "<div>\n",
       "<style scoped>\n",
       "    .dataframe tbody tr th:only-of-type {\n",
       "        vertical-align: middle;\n",
       "    }\n",
       "\n",
       "    .dataframe tbody tr th {\n",
       "        vertical-align: top;\n",
       "    }\n",
       "\n",
       "    .dataframe thead th {\n",
       "        text-align: right;\n",
       "    }\n",
       "</style>\n",
       "<table border=\"1\" class=\"dataframe\">\n",
       "  <thead>\n",
       "    <tr style=\"text-align: right;\">\n",
       "      <th></th>\n",
       "      <th>text</th>\n",
       "      <th>processed_text</th>\n",
       "      <th>text_length</th>\n",
       "      <th>sentiment</th>\n",
       "      <th>Subjectivity</th>\n",
       "      <th>Polarity</th>\n",
       "      <th>Analysis</th>\n",
       "    </tr>\n",
       "  </thead>\n",
       "  <tbody>\n",
       "    <tr>\n",
       "      <th>634</th>\n",
       "      <td>people obviously pizzas their</td>\n",
       "      <td>people obviously pizza</td>\n",
       "      <td>3</td>\n",
       "      <td>positive</td>\n",
       "      <td>0.5</td>\n",
       "      <td>0.0</td>\n",
       "      <td>neutral</td>\n",
       "    </tr>\n",
       "    <tr>\n",
       "      <th>1325</th>\n",
       "      <td>is , tapas always yummy with . the</td>\n",
       "      <td>tapa always yummy</td>\n",
       "      <td>3</td>\n",
       "      <td>positive</td>\n",
       "      <td>0.0</td>\n",
       "      <td>0.0</td>\n",
       "      <td>neutral</td>\n",
       "    </tr>\n",
       "    <tr>\n",
       "      <th>1980</th>\n",
       "      <td>the same classical made</td>\n",
       "      <td>classical made</td>\n",
       "      <td>2</td>\n",
       "      <td>positive</td>\n",
       "      <td>0.0</td>\n",
       "      <td>0.0</td>\n",
       "      <td>neutral</td>\n",
       "    </tr>\n",
       "    <tr>\n",
       "      <th>743</th>\n",
       "      <td>dinner a late , raucus</td>\n",
       "      <td>dinner late raucus</td>\n",
       "      <td>3</td>\n",
       "      <td>positive</td>\n",
       "      <td>0.6</td>\n",
       "      <td>-0.3</td>\n",
       "      <td>negative</td>\n",
       "    </tr>\n",
       "    <tr>\n",
       "      <th>929</th>\n",
       "      <td>the lamb and naan</td>\n",
       "      <td>lamb naan</td>\n",
       "      <td>2</td>\n",
       "      <td>positive</td>\n",
       "      <td>0.0</td>\n",
       "      <td>0.0</td>\n",
       "      <td>neutral</td>\n",
       "    </tr>\n",
       "  </tbody>\n",
       "</table>\n",
       "</div>"
      ],
      "text/plain": [
       "                                    text          processed_text  text_length  \\\n",
       "634        people obviously pizzas their  people obviously pizza            3   \n",
       "1325  is , tapas always yummy with . the       tapa always yummy            3   \n",
       "1980             the same classical made          classical made            2   \n",
       "743               dinner a late , raucus      dinner late raucus            3   \n",
       "929                    the lamb and naan               lamb naan            2   \n",
       "\n",
       "     sentiment  Subjectivity  Polarity  Analysis  \n",
       "634   positive           0.5       0.0   neutral  \n",
       "1325  positive           0.0       0.0   neutral  \n",
       "1980  positive           0.0       0.0   neutral  \n",
       "743   positive           0.6      -0.3  negative  \n",
       "929   positive           0.0       0.0   neutral  "
      ]
     },
     "execution_count": 59,
     "metadata": {},
     "output_type": "execute_result"
    }
   ],
   "source": [
    "df_test['Subjectivity'] = df_test['processed_text'].apply(getSubjectivity) \n",
    "df_test['Polarity'] = df_test['processed_text'].apply(getPolarity) \n",
    "df_test['Analysis'] = df_test['Polarity'].apply(analysis)\n",
    "df_test.head()"
   ]
  },
  {
   "cell_type": "code",
   "execution_count": 60,
   "id": "6610167d",
   "metadata": {
    "scrolled": true
   },
   "outputs": [],
   "source": [
    "y_pred = df_test['Analysis']\n",
    "y_actual = df_test['sentiment']\n"
   ]
  },
  {
   "cell_type": "code",
   "execution_count": 62,
   "id": "3e218d62",
   "metadata": {},
   "outputs": [
    {
     "name": "stdout",
     "output_type": "stream",
     "text": [
      "              precision    recall  f1-score   support\n",
      "\n",
      "    negative       0.52      0.26      0.34       159\n",
      "     neutral       0.21      0.69      0.32        90\n",
      "    positive       0.85      0.59      0.70       424\n",
      "\n",
      "    accuracy                           0.53       673\n",
      "   macro avg       0.53      0.51      0.45       673\n",
      "weighted avg       0.68      0.53      0.56       673\n",
      "\n"
     ]
    }
   ],
   "source": [
    "target_names = ['negative', 'neutral' , 'positive']\n",
    "print(metrics.classification_report(y_actual, y_pred, target_names=target_names))"
   ]
  },
  {
   "cell_type": "markdown",
   "id": "f6b16375",
   "metadata": {},
   "source": [
    "- F1 score for positive reviews is great but the neutral and negative are not looking good that might be because of the class imbalace, amount of positive reviews are much higher than the amount of negative and neutral combined"
   ]
  },
  {
   "cell_type": "code",
   "execution_count": null,
   "id": "099b66f4",
   "metadata": {},
   "outputs": [],
   "source": []
  }
 ],
 "metadata": {
  "kernelspec": {
   "display_name": "Python 3",
   "language": "python",
   "name": "python3"
  },
  "language_info": {
   "codemirror_mode": {
    "name": "ipython",
    "version": 3
   },
   "file_extension": ".py",
   "mimetype": "text/x-python",
   "name": "python",
   "nbconvert_exporter": "python",
   "pygments_lexer": "ipython3",
   "version": "3.8.8"
  }
 },
 "nbformat": 4,
 "nbformat_minor": 5
}
